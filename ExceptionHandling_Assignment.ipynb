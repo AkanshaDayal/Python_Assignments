{
  "nbformat": 4,
  "nbformat_minor": 0,
  "metadata": {
    "colab": {
      "provenance": []
    },
    "kernelspec": {
      "name": "python3",
      "display_name": "Python 3"
    },
    "language_info": {
      "name": "python"
    }
  },
  "cells": [
    {
      "cell_type": "markdown",
      "source": [
        "#Theory Questions:\n",
        "1.  What is the difference between interpreted and compiled languages?\n",
        "  - Interpreted languages run line-by-line using an interpreter, while compiled languages are converted to machine code before execution.\n",
        "2.  What is exception handling in Python?\n",
        "  - It’s a mechanism to catch and handle runtime errors using try, except, and related blocks.\n",
        "3.  What is the purpose of the finally block in exception handling?\n",
        "  - It executes code regardless of whether an exception occurred, often used for cleanup.\n",
        "4.  What is logging in Python?\n",
        "  - Logging records program events for debugging or monitoring using the logging module.\n",
        "5.  What is the significance of the __del__ method in Python?\n",
        "  - It is a destructor method called when an object is about to be destroyed.\n",
        "6.  What is the difference between import and from ... import in Python?\n",
        "  - import loads the whole module, while from ... import brings specific objects/functions.\n",
        "7.  How can you handle multiple exceptions in Python?\n",
        "  - Use multiple except blocks or group them in a tuple in one except.\n",
        "8.  What is the purpose of the with statement when handling files in Python?\n",
        "  - It ensures files are properly opened and closed automatically.\n",
        "9.  What is the difference between multithreading and multiprocessing?\n",
        "  - Multithreading uses threads within a process; multiprocessing runs separate processes for better CPU utilization.\n",
        "10.  What are the advantages of using logging in a program?\n",
        "  - Helps track errors, debug, and monitor the application flow over time.\n",
        "11.  What is memory management in Python?\n",
        "  - It includes automatic memory allocation and garbage collection.\n",
        "12.  What are the basic steps involved in exception handling in Python?\n",
        "  - Use try to write risky code, except to catch errors, and optionally else/finally.\n",
        "13.  Why is memory management important in Python?\n",
        "  - Prevents memory leaks and ensures efficient use of system resources.\n",
        "14.  What is the role of try and except in exception handling?\n",
        "  - try wraps code that may raise exceptions; except handles those exceptions.\n",
        "15.  How does Python's garbage collection system work?\n",
        "  - Uses reference counting and a cyclic garbage collector to reclaim unused memory.\n",
        "16.  What is the purpose of the else block in exception handling?\n",
        "  - Executes code if no exception occurs in the try block.\n",
        "17. What are the common logging levels in Python?\n",
        "  - Common Logging Levels:\n",
        "DEBUG, INFO, WARNING, ERROR, and CRITICAL.\n",
        "18.  What is the difference between os.fork() and multiprocessing in Python?\n",
        "  - os.fork() is Unix-specific for creating processes; multiprocessing is cross-platform and more Pythonic.\n",
        "19.  What is the importance of closing a file in Python?\n",
        "  - Frees up system resources and ensures data is properly saved.\n",
        "20.  What is the difference between file.read() and file.readline() in Python?\n",
        "  - read() reads the whole file; readline() reads one line at a time.\n",
        "21. What is the logging module in Python used for?\n",
        "  - It allows tracking and storing logs at different severity levels.\n",
        "22.  What is the os module in Python used for in file handling?\n",
        "  - Provides functions for interacting with the file system (e.g., paths, directories).\n",
        "23.  What are the challenges associated with memory management in Python?\n",
        "  - Includes cyclic references, memory leaks, and inefficient object handling.\n",
        "24.   How do you raise an exception manually in Python?\n",
        "  - Use the raise keyword followed by an exception type.\n",
        "25.  Why is it important to use multithreading in certain applications?\n",
        "  - Useful for tasks like I/O operations to improve responsiveness without parallelizing CPU-bound work."
      ],
      "metadata": {
        "id": "hbIaQRrVqXHi"
      }
    },
    {
      "cell_type": "markdown",
      "source": [
        "#Practical Questions:"
      ],
      "metadata": {
        "id": "1B3T-bO4tdUj"
      }
    },
    {
      "cell_type": "code",
      "execution_count": 1,
      "metadata": {
        "id": "eluUdjUXqGIz"
      },
      "outputs": [],
      "source": [
        "#1.  How can you open a file for writing in Python and write a string to it?\n",
        "with open('example.txt', 'w') as file:\n",
        "    file.write('Hello, world!')\n"
      ]
    },
    {
      "cell_type": "code",
      "source": [
        "#2. Write a Python program to read the contents of a file and print each line.\n",
        "with open('example.txt', 'r') as file:\n",
        "    for line in file:\n",
        "        print(line.strip())\n"
      ],
      "metadata": {
        "colab": {
          "base_uri": "https://localhost:8080/"
        },
        "id": "PRKnDyCQtrGy",
        "outputId": "84dd43a2-386b-4368-9575-446c982adb02"
      },
      "execution_count": 2,
      "outputs": [
        {
          "output_type": "stream",
          "name": "stdout",
          "text": [
            "Hello, world!\n"
          ]
        }
      ]
    },
    {
      "cell_type": "code",
      "source": [
        "#3. How would you handle a case where the file doesn't exist while trying to open it for reading?\n",
        "try:\n",
        "    with open('missing.txt', 'r') as file:\n",
        "        data = file.read()\n",
        "except FileNotFoundError:\n",
        "    print(\"File does not exist.\")\n"
      ],
      "metadata": {
        "colab": {
          "base_uri": "https://localhost:8080/"
        },
        "id": "Efwlj_UfwCHH",
        "outputId": "4b46ec20-b257-4ebf-9720-db2c045827c9"
      },
      "execution_count": 3,
      "outputs": [
        {
          "output_type": "stream",
          "name": "stdout",
          "text": [
            "File does not exist.\n"
          ]
        }
      ]
    },
    {
      "cell_type": "code",
      "source": [
        "#4. Write a Python script that reads from one file and writes its content to another file.\n",
        "# with open('source.txt', 'r') as src, open('destination.txt', 'w') as dest:\n",
        "    #dest.write(src.read())\n"
      ],
      "metadata": {
        "id": "JZs1zo5dwMEv"
      },
      "execution_count": 27,
      "outputs": []
    },
    {
      "cell_type": "code",
      "source": [
        "#5.  How would you catch and handle division by zero error in Python?\n",
        "try:\n",
        "    result = 10 / 0\n",
        "except ZeroDivisionError:\n",
        "    print(\"Cannot divide by zero.\")\n"
      ],
      "metadata": {
        "colab": {
          "base_uri": "https://localhost:8080/"
        },
        "id": "n4vFBwvmwVzz",
        "outputId": "a887dc52-6cd9-4f10-a4c8-1a2d7a15067e"
      },
      "execution_count": 28,
      "outputs": [
        {
          "output_type": "stream",
          "name": "stdout",
          "text": [
            "Cannot divide by zero.\n"
          ]
        }
      ]
    },
    {
      "cell_type": "code",
      "source": [
        "#6.  Write a Python program that logs an error message to a log file when a division by zero exception occurs.\n",
        "import logging\n",
        "logging.basicConfig(filename='app.log', level=logging.ERROR)\n",
        "try:\n",
        "    10 / 0\n",
        "except ZeroDivisionError as e:\n",
        "    logging.error(f\"Error occurred: {e}\")\n"
      ],
      "metadata": {
        "colab": {
          "base_uri": "https://localhost:8080/"
        },
        "id": "hbF4beCMwcGB",
        "outputId": "0213daa6-d2b4-41e7-b426-13dd5681b920"
      },
      "execution_count": 29,
      "outputs": [
        {
          "output_type": "stream",
          "name": "stderr",
          "text": [
            "ERROR:root:Error occurred: division by zero\n"
          ]
        }
      ]
    },
    {
      "cell_type": "code",
      "source": [
        "#7.  How do you log information at different levels (INFO, ERROR, WARNING) in Python using the logging module?\n",
        "import logging\n",
        "logging.basicConfig(level=logging.DEBUG)\n",
        "logging.info(\"This is an info message.\")\n",
        "logging.warning(\"This is a warning.\")\n",
        "logging.error(\"This is an error.\")\n"
      ],
      "metadata": {
        "colab": {
          "base_uri": "https://localhost:8080/"
        },
        "id": "ep8J_XHkweoy",
        "outputId": "fc78d057-4942-40b9-85fd-62aad7b97a1e"
      },
      "execution_count": 30,
      "outputs": [
        {
          "output_type": "stream",
          "name": "stderr",
          "text": [
            "WARNING:root:This is a warning.\n",
            "ERROR:root:This is an error.\n"
          ]
        }
      ]
    },
    {
      "cell_type": "code",
      "source": [
        "#8.  Write a program to handle a file opening error using exception handling.\n",
        "try:\n",
        "    with open('file.txt', 'r') as file:\n",
        "        content = file.read()\n",
        "except FileNotFoundError:\n",
        "    print(\"Error: File not found.\")\n"
      ],
      "metadata": {
        "colab": {
          "base_uri": "https://localhost:8080/"
        },
        "id": "ricsz-HhwhIX",
        "outputId": "4ca53398-d55a-4012-e618-bda297781a93"
      },
      "execution_count": 31,
      "outputs": [
        {
          "output_type": "stream",
          "name": "stdout",
          "text": [
            "Error: File not found.\n"
          ]
        }
      ]
    },
    {
      "cell_type": "code",
      "source": [
        "#9.  How can you read a file line by line and store its content in a list in Python?\n",
        "open(\"data.txt\",'w')\n",
        "with open('data.txt', 'r') as file:\n",
        "    lines = [line.strip() for line in file]\n"
      ],
      "metadata": {
        "id": "uqVIV9BawrZ4"
      },
      "execution_count": 34,
      "outputs": []
    },
    {
      "cell_type": "code",
      "source": [
        "#10.  How can you append data to an existing file in Python?\n",
        "with open('example.txt', 'a') as file:\n",
        "    file.write('Additional content\\n')\n"
      ],
      "metadata": {
        "id": "mpBEHLvjwvWq"
      },
      "execution_count": 35,
      "outputs": []
    },
    {
      "cell_type": "code",
      "source": [
        "#11.  Write a Python program that uses a try-except block to handle an error when attempting to access a dictionary key that doesn't exist.\n",
        "my_dict = {\"name\": \"Alice\"}\n",
        "try:\n",
        "    print(my_dict[\"age\"])\n",
        "except KeyError:\n",
        "    print(\"Key not found.\")\n"
      ],
      "metadata": {
        "colab": {
          "base_uri": "https://localhost:8080/"
        },
        "id": "lM6xLCO2wx7F",
        "outputId": "55bdcabd-cc9f-4894-f655-a14507d573af"
      },
      "execution_count": 36,
      "outputs": [
        {
          "output_type": "stream",
          "name": "stdout",
          "text": [
            "Key not found.\n"
          ]
        }
      ]
    },
    {
      "cell_type": "code",
      "source": [
        "#12. Write a program that demonstrates using multiple except blocks to handle different types of exceptions.\n",
        "try:\n",
        "    a = [1, 2, 3]\n",
        "    print(a[5])\n",
        "except IndexError:\n",
        "    print(\"Index out of range.\")\n",
        "except ZeroDivisionError:\n",
        "    print(\"Division by zero.\")\n"
      ],
      "metadata": {
        "colab": {
          "base_uri": "https://localhost:8080/"
        },
        "id": "pVhl7zKwxAD_",
        "outputId": "37fa158c-8797-43ab-f5ae-71e315f01500"
      },
      "execution_count": 37,
      "outputs": [
        {
          "output_type": "stream",
          "name": "stdout",
          "text": [
            "Index out of range.\n"
          ]
        }
      ]
    },
    {
      "cell_type": "code",
      "source": [
        "#13.  How would you check if a file exists before attempting to read it in Python?\n",
        "import os\n",
        "if os.path.exists('data.txt'):\n",
        "    with open('data.txt') as file:\n",
        "        print(file.read())\n",
        "else:\n",
        "    print(\"File does not exist.\")\n"
      ],
      "metadata": {
        "colab": {
          "base_uri": "https://localhost:8080/"
        },
        "id": "ENchTRHGxD91",
        "outputId": "29771e80-22e4-42e8-bd95-412abb2e9952"
      },
      "execution_count": 39,
      "outputs": [
        {
          "output_type": "stream",
          "name": "stdout",
          "text": [
            "\n"
          ]
        }
      ]
    },
    {
      "cell_type": "code",
      "source": [
        "#Write a program that uses the logging module to log both informational and error messages.\n",
        "import logging\n",
        "logging.basicConfig(filename='logfile.log', level=logging.INFO)\n",
        "logging.info(\"Program started.\")\n",
        "try:\n",
        "    10 / 0\n",
        "except ZeroDivisionError:\n",
        "    logging.error(\"Attempted division by zero.\")\n"
      ],
      "metadata": {
        "colab": {
          "base_uri": "https://localhost:8080/"
        },
        "id": "SM3Cu2_rxHo3",
        "outputId": "4733b44c-e347-4996-a97f-88a7497cdbbb"
      },
      "execution_count": 40,
      "outputs": [
        {
          "output_type": "stream",
          "name": "stderr",
          "text": [
            "ERROR:root:Attempted division by zero.\n"
          ]
        }
      ]
    },
    {
      "cell_type": "code",
      "source": [
        "#15.  Write a Python program that prints the content of a file and handles the case when the file is empty.\n",
        "with open('data.txt', 'r') as file:\n",
        "    content = file.read()\n",
        "    if content:\n",
        "        print(content)\n",
        "    else:\n",
        "        print(\"File is empty.\")\n"
      ],
      "metadata": {
        "colab": {
          "base_uri": "https://localhost:8080/"
        },
        "id": "FL6ofr8cxTNZ",
        "outputId": "ad6f2961-8f3a-42bd-8ff1-a5d3f14ee237"
      },
      "execution_count": 42,
      "outputs": [
        {
          "output_type": "stream",
          "name": "stdout",
          "text": [
            "File is empty.\n"
          ]
        }
      ]
    },
    {
      "cell_type": "code",
      "source": [
        "#16. Demonstrate how to use memory profiling to check the memory usage of a small program.\n",
        "!pip install memory-profiler\n"
      ],
      "metadata": {
        "colab": {
          "base_uri": "https://localhost:8080/"
        },
        "id": "VfUXYbkMxa4C",
        "outputId": "ee628095-9f42-4491-f11d-13c9afb8bb2c"
      },
      "execution_count": 45,
      "outputs": [
        {
          "output_type": "stream",
          "name": "stdout",
          "text": [
            "Requirement already satisfied: memory-profiler in /usr/local/lib/python3.11/dist-packages (0.61.0)\n",
            "Requirement already satisfied: psutil in /usr/local/lib/python3.11/dist-packages (from memory-profiler) (5.9.5)\n"
          ]
        }
      ]
    },
    {
      "cell_type": "code",
      "source": [
        "from memory_profiler import memory_usage\n",
        "\n",
        "def my_func():\n",
        "    a = [i for i in range(100000)]\n",
        "    return sum(a)\n",
        "\n",
        "\n",
        "mem_usage = memory_usage(my_func)\n",
        "\n",
        "print(f\"Memory usage (in MiB): {mem_usage}\")\n"
      ],
      "metadata": {
        "colab": {
          "base_uri": "https://localhost:8080/"
        },
        "id": "ZgeeOjmJ3bJs",
        "outputId": "edb503b4-abe6-426f-d3a6-76eea2d92832"
      },
      "execution_count": 46,
      "outputs": [
        {
          "output_type": "stream",
          "name": "stdout",
          "text": [
            "Memory usage (in MiB): [116.671875, 116.671875, 116.671875, 116.96875, 117.796875, 118.62109375, 117.65625, 116.671875]\n"
          ]
        }
      ]
    },
    {
      "cell_type": "code",
      "source": [
        "#17.  Write a Python program to create and write a list of numbers to a file, one number per line.\n",
        "numbers = [1, 2, 3, 4, 5]\n",
        "with open('numbers.txt', 'w') as file:\n",
        "    for num in numbers:\n",
        "        file.write(f\"{num}\\n\")\n"
      ],
      "metadata": {
        "id": "ggTk8m0gxdf6"
      },
      "execution_count": 47,
      "outputs": []
    },
    {
      "cell_type": "code",
      "source": [
        "#18.  How would you implement a basic logging setup that logs to a file with rotation after 1MB?\n",
        "import logging\n",
        "from logging.handlers import RotatingFileHandler\n",
        "\n",
        "handler = RotatingFileHandler(\"logfile.log\", maxBytes=1048576, backupCount=3)\n",
        "logging.basicConfig(handlers=[handler], level=logging.INFO)\n",
        "logging.info(\"Log with rotation setup.\")\n"
      ],
      "metadata": {
        "id": "6w8MPRp6xfv-"
      },
      "execution_count": 48,
      "outputs": []
    },
    {
      "cell_type": "code",
      "source": [
        "#19.  Write a program that handles both IndexError and KeyError using a try-except block.\n",
        "try:\n",
        "    lst = [1, 2]\n",
        "    print(lst[5])\n",
        "    dct = {}\n",
        "    print(dct['key'])\n",
        "except IndexError:\n",
        "    print(\"List index out of range.\")\n",
        "except KeyError:\n",
        "    print(\"Dictionary key not found.\")\n"
      ],
      "metadata": {
        "colab": {
          "base_uri": "https://localhost:8080/"
        },
        "id": "9WJOPJqKxiE4",
        "outputId": "e077d788-b916-4acc-e223-8cd5d7663e3d"
      },
      "execution_count": 49,
      "outputs": [
        {
          "output_type": "stream",
          "name": "stdout",
          "text": [
            "List index out of range.\n"
          ]
        }
      ]
    },
    {
      "cell_type": "code",
      "source": [
        "#20.  How would you open a file and read its contents using a context manager in Python?\n",
        "with open('data.txt', 'r') as file:\n",
        "    content = file.read()\n",
        "    print(content)\n"
      ],
      "metadata": {
        "colab": {
          "base_uri": "https://localhost:8080/"
        },
        "id": "2TPg545Kxkrx",
        "outputId": "e4eeb69e-75f2-45ae-ea1f-83f32ca5e4ed"
      },
      "execution_count": 51,
      "outputs": [
        {
          "output_type": "stream",
          "name": "stdout",
          "text": [
            "\n"
          ]
        }
      ]
    },
    {
      "cell_type": "code",
      "source": [
        "#21.  Write a Python program that reads a file and prints the number of occurrences of a specific word.\n",
        "word = \"hello\"\n",
        "count = 0\n",
        "with open('data.txt', 'r') as file:\n",
        "    for line in file:\n",
        "        count += line.lower().count(word.lower())\n",
        "print(f\"Occurrences of '{word}':\", count)\n"
      ],
      "metadata": {
        "colab": {
          "base_uri": "https://localhost:8080/"
        },
        "id": "ccKeJ8KbxnU3",
        "outputId": "7597ac16-1709-40ff-9382-22be673308d9"
      },
      "execution_count": 53,
      "outputs": [
        {
          "output_type": "stream",
          "name": "stdout",
          "text": [
            "Occurrences of 'hello': 0\n"
          ]
        }
      ]
    },
    {
      "cell_type": "code",
      "source": [
        "#22.  How can you check if a file is empty before attempting to read its contents?\n",
        "import os\n",
        "if os.path.getsize('data.txt') == 0:\n",
        "    print(\"File is empty.\")\n",
        "else:\n",
        "    with open('data.txt') as f:\n",
        "        print(f.read())\n"
      ],
      "metadata": {
        "colab": {
          "base_uri": "https://localhost:8080/"
        },
        "id": "iYrnDJxixqkN",
        "outputId": "9ec8ad88-43c7-4275-e908-616231b761f1"
      },
      "execution_count": 57,
      "outputs": [
        {
          "output_type": "stream",
          "name": "stdout",
          "text": [
            "File is empty.\n"
          ]
        }
      ]
    },
    {
      "cell_type": "code",
      "source": [
        "#23.  Write a Python program that writes to a log file when an error occurs during file handling.\n",
        "import logging\n",
        "logging.basicConfig(filename='errors.log', level=logging.ERROR)\n",
        "try:\n",
        "    with open('file.txt', 'r') as f:\n",
        "        print(f.read())\n",
        "except Exception as e:\n",
        "    logging.error(f\"File error: {e}\")\n"
      ],
      "metadata": {
        "colab": {
          "base_uri": "https://localhost:8080/"
        },
        "id": "0V2LeRw4xuQ2",
        "outputId": "09bd4782-e974-461b-ae0c-28c0ea1670e2"
      },
      "execution_count": 60,
      "outputs": [
        {
          "output_type": "stream",
          "name": "stderr",
          "text": [
            "ERROR:root:File error: [Errno 2] No such file or directory: 'file.txt'\n"
          ]
        }
      ]
    }
  ]
}