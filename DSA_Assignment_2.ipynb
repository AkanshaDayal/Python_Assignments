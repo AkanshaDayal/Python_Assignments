{
  "nbformat": 4,
  "nbformat_minor": 0,
  "metadata": {
    "colab": {
      "provenance": []
    },
    "kernelspec": {
      "name": "python3",
      "display_name": "Python 3"
    },
    "language_info": {
      "name": "python"
    }
  },
  "cells": [
    {
      "cell_type": "markdown",
      "source": [
        "#Theory Question:-"
      ],
      "metadata": {
        "id": "ObDNmHri0Uo2"
      }
    },
    {
      "cell_type": "markdown",
      "source": [
        "1. What are data structures, and why are they important?\n",
        "  -  Data structures are ways to organize and store data for efficient access and modification, they are essential for writing efficient algorithms and managing data effectively.\n",
        "2. Explain the difference between mutable and immutable data types with examples?\n",
        "  - Mutable data types (like lists, dictionaries) can be changed after creation, while immutable types (like strings, tuples) cannot be altered.     e.g., list = [1, 2] is mutable, but tuple = (1, 2) is not.\n",
        "3. What are the main differences between lists and tuples in Python?\n",
        "  - Lists are mutable and allow changes, whereas tuples are immutable and generally used for fixed data.\n",
        "4. Describe how dictionaries store data?\n",
        "  -  Dictionaries store data as key-value pairs using a hash table internally, allowing fast access by keys.\n",
        "5. Why might you use a set instead of a list in Python?\n",
        "  - Sets are used when you need unique elements and fast membership tests, unlike lists which allow duplicates.\n",
        "6. What is a string in Python, and how is it different from a list?\n",
        "  - A string is an immutable sequence of characters, while a list is a mutable sequence that can hold any data types.\n",
        "7. How do tuples ensure data integrity in Python?\n",
        "  - Tuples ensure data integrity by preventing accidental modifications since their elements cannot be changed.\n",
        "8. What is a hash table, and how does it relate to dictionaries in Python?\n",
        "  - A hash table maps keys to values using a hash function; Python dictionaries use hash tables to provide fast access.\n",
        "9. Can lists contain different data types in Python?\n",
        " - Yes, lists in Python can contain different data types like [1, \"apple\", True].\n",
        "10.  Explain why strings are immutable in Python?\n",
        "  - Strings are immutable to ensure memory efficiency, consistency, and thread safety.\n",
        "11. What advantages do dictionaries offer over lists for certain tasks?\n",
        "  -  Dictionaries offer faster data lookup via keys and better organization for key-value relationships compared to lists.\n",
        "12. Describe a scenario where using a tuple would be preferable over a list.\n",
        "  - Use a tuple instead of a list when you want to store constant, unchangeable data like coordinates (x, y).\n",
        "13. How do sets handle duplicate values in Python?\n",
        "  -  Sets automatically eliminate duplicates, only storing one instance of each element.\n",
        "14. How does the “in” keyword work differently for lists and dictionaries?\n",
        "  - The \"in\" keyword checks for values in lists and keys in dictionaries, not values.\n",
        "15. Can you modify the elements of a tuple? Explain why or why not?\n",
        "  - No, tuple elements cannot be modified because tuples are immutable by design.\n",
        "16.  What is a nested dictionary, and give an example of its use case?\n",
        "  - A nested dictionary is a dictionary within another dictionary; e.g., storing student data like {\"student1\": {\"name\": \"Alice\", \"age\": 20}}.\n",
        "17. Describe the time complexity of accessing elements in a dictionary?\n",
        "  - Accessing elements in a dictionary has average-case time complexity of O(1) due to hashing.\n",
        "18. In what situations are lists preferred over dictionaries?\n",
        "  - Lists are preferred when the order of items matters or when storing sequential data without key-value associations.\n",
        "19. Why are dictionaries considered unordered, and how does that affect data retrieval?\n",
        "  - Dictionaries are unordered in older Python versions (before 3.7), order is preserved in newer versions but not guaranteed for logic.\n",
        "20. Explain the difference between a list and a dictionary in terms of data retrieval.\n",
        "  - Lists retrieve data by index (position), while dictionaries retrieve data by key, offering more flexibility for named data access.\n"
      ],
      "metadata": {
        "id": "MRvyQwfe0fpv"
      }
    },
    {
      "cell_type": "markdown",
      "source": [
        "#Pratical Questions:-"
      ],
      "metadata": {
        "id": "Lyn0pFK0BPyD"
      }
    },
    {
      "cell_type": "code",
      "source": [
        "# 1. Create a string with your name and print it\n",
        "name = \"Akansha\"\n",
        "print(name)"
      ],
      "metadata": {
        "id": "rc4cEiJsoiSZ",
        "colab": {
          "base_uri": "https://localhost:8080/"
        },
        "outputId": "af01fc21-14fe-4792-d381-dca597889625"
      },
      "execution_count": 1,
      "outputs": [
        {
          "output_type": "stream",
          "name": "stdout",
          "text": [
            "Akansha\n"
          ]
        }
      ]
    },
    {
      "cell_type": "code",
      "source": [
        "# 2. Find the length of the string \"Hello World\"\n",
        "print(len(\"Hello World\"))\n"
      ],
      "metadata": {
        "colab": {
          "base_uri": "https://localhost:8080/"
        },
        "id": "zqSCIocLBiRA",
        "outputId": "4a9ddd66-d86e-446b-af45-630154a9b1da"
      },
      "execution_count": 2,
      "outputs": [
        {
          "output_type": "stream",
          "name": "stdout",
          "text": [
            "11\n"
          ]
        }
      ]
    },
    {
      "cell_type": "code",
      "source": [
        "# 3. Slice the first 3 characters from the string \"Python Programming\"\n",
        "print(\"Python Programming\"[:3])\n"
      ],
      "metadata": {
        "colab": {
          "base_uri": "https://localhost:8080/"
        },
        "id": "e1T57UyCBrk9",
        "outputId": "fc59d732-158d-42de-c8c7-5ee893bf1ab4"
      },
      "execution_count": 3,
      "outputs": [
        {
          "output_type": "stream",
          "name": "stdout",
          "text": [
            "Pyt\n"
          ]
        }
      ]
    },
    {
      "cell_type": "code",
      "source": [
        "# 4. Convert the string \"hello\" to uppercase\n",
        "print(\"hello\".upper())"
      ],
      "metadata": {
        "colab": {
          "base_uri": "https://localhost:8080/"
        },
        "id": "tzU0bzykBwba",
        "outputId": "f14a90af-e45a-4915-db53-db28a21b3998"
      },
      "execution_count": 4,
      "outputs": [
        {
          "output_type": "stream",
          "name": "stdout",
          "text": [
            "HELLO\n"
          ]
        }
      ]
    },
    {
      "cell_type": "code",
      "source": [
        "# 5. Replace \"apple\" with \"orange\" in the string \"I like apple\"\n",
        "print(\"I like apple\".replace(\"apple\", \"orange\"))"
      ],
      "metadata": {
        "colab": {
          "base_uri": "https://localhost:8080/"
        },
        "id": "CB___pdaB0ks",
        "outputId": "e846ebcf-07cb-4e56-91b5-085725502481"
      },
      "execution_count": 5,
      "outputs": [
        {
          "output_type": "stream",
          "name": "stdout",
          "text": [
            "I like orange\n"
          ]
        }
      ]
    },
    {
      "cell_type": "code",
      "source": [
        "# 6. Create a list with numbers 1 to 5 and print it\n",
        "numbers = [1, 2, 3, 4, 5]\n",
        "print(numbers)"
      ],
      "metadata": {
        "colab": {
          "base_uri": "https://localhost:8080/"
        },
        "id": "LBsTv5ecB5Af",
        "outputId": "d58224fc-7d2c-4fbd-8040-b5779d48aa91"
      },
      "execution_count": 6,
      "outputs": [
        {
          "output_type": "stream",
          "name": "stdout",
          "text": [
            "[1, 2, 3, 4, 5]\n"
          ]
        }
      ]
    },
    {
      "cell_type": "code",
      "source": [
        "# 7. Append the number 10 to the list [1, 2, 3, 4]\n",
        "lst = [1, 2, 3, 4]\n",
        "lst.append(10)\n",
        "print(lst)"
      ],
      "metadata": {
        "colab": {
          "base_uri": "https://localhost:8080/"
        },
        "id": "kB2EBW3YCACI",
        "outputId": "ccdd1a2c-dcb6-46d5-edd4-dd0d7ec79e26"
      },
      "execution_count": 7,
      "outputs": [
        {
          "output_type": "stream",
          "name": "stdout",
          "text": [
            "[1, 2, 3, 4, 10]\n"
          ]
        }
      ]
    },
    {
      "cell_type": "code",
      "source": [
        "# 8. Remove the number 3 from the list [1, 2, 3, 4, 5]\n",
        "lst2 = [1, 2, 3, 4, 5]\n",
        "lst2.remove(3)\n",
        "print(lst2)"
      ],
      "metadata": {
        "colab": {
          "base_uri": "https://localhost:8080/"
        },
        "id": "DQ-rzSb4CDjX",
        "outputId": "413c0838-9964-4c16-db2b-e8660d800bd0"
      },
      "execution_count": 8,
      "outputs": [
        {
          "output_type": "stream",
          "name": "stdout",
          "text": [
            "[1, 2, 4, 5]\n"
          ]
        }
      ]
    },
    {
      "cell_type": "code",
      "source": [
        "# 9. Access the second element in the list ['a', 'b', 'c', 'd']\n",
        "chars = ['a', 'b', 'c', 'd']\n",
        "print(chars[1])"
      ],
      "metadata": {
        "colab": {
          "base_uri": "https://localhost:8080/"
        },
        "id": "VnjeSXnFCG5F",
        "outputId": "df02c50c-b783-42fa-f57f-cc8b1db1f68e"
      },
      "execution_count": 9,
      "outputs": [
        {
          "output_type": "stream",
          "name": "stdout",
          "text": [
            "b\n"
          ]
        }
      ]
    },
    {
      "cell_type": "code",
      "source": [
        "# 10. Reverse the list [10, 20, 30, 40, 50]\n",
        "nums = [10, 20, 30, 40, 50]\n",
        "nums.reverse()\n",
        "print(nums)\n"
      ],
      "metadata": {
        "colab": {
          "base_uri": "https://localhost:8080/"
        },
        "id": "BuYqGChfCMOG",
        "outputId": "d6e56633-13b7-4ef8-92a2-c21ed22e39f9"
      },
      "execution_count": 10,
      "outputs": [
        {
          "output_type": "stream",
          "name": "stdout",
          "text": [
            "[50, 40, 30, 20, 10]\n"
          ]
        }
      ]
    },
    {
      "cell_type": "code",
      "source": [
        "# 11. Create a tuple with the elements 100, 200, 300 and print it\n",
        "tup = (100, 200, 300)\n",
        "print(tup)\n"
      ],
      "metadata": {
        "colab": {
          "base_uri": "https://localhost:8080/"
        },
        "id": "pzje_FLVCPwd",
        "outputId": "a5614d84-110b-4170-ee1b-f83cf206fc36"
      },
      "execution_count": 11,
      "outputs": [
        {
          "output_type": "stream",
          "name": "stdout",
          "text": [
            "(100, 200, 300)\n"
          ]
        }
      ]
    },
    {
      "cell_type": "code",
      "source": [
        "# 12. Access the second-to-last element of the tuple ('red', 'green', 'blue', 'yellow')\n",
        "colors = ('red', 'green', 'blue', 'yellow')\n",
        "print(colors[-2])"
      ],
      "metadata": {
        "colab": {
          "base_uri": "https://localhost:8080/"
        },
        "id": "GgHhpuTBCUXJ",
        "outputId": "7f271bae-45fa-459d-81b8-0278bb578e74"
      },
      "execution_count": 12,
      "outputs": [
        {
          "output_type": "stream",
          "name": "stdout",
          "text": [
            "blue\n"
          ]
        }
      ]
    },
    {
      "cell_type": "code",
      "source": [
        "# 13. Find the minimum number in the tuple (10, 20, 5, 15)\n",
        "print(min((10, 20, 5, 15)))\n"
      ],
      "metadata": {
        "colab": {
          "base_uri": "https://localhost:8080/"
        },
        "id": "MXHC5vukCY38",
        "outputId": "00afdce0-5de4-489e-d79d-af7f66573712"
      },
      "execution_count": 13,
      "outputs": [
        {
          "output_type": "stream",
          "name": "stdout",
          "text": [
            "5\n"
          ]
        }
      ]
    },
    {
      "cell_type": "code",
      "source": [
        "# 14. Find the index of the element \"cat\" in the tuple ('dog', 'cat', 'rabbit')\n",
        "animals = ('dog', 'cat', 'rabbit')\n",
        "print(animals.index(\"cat\"))\n"
      ],
      "metadata": {
        "colab": {
          "base_uri": "https://localhost:8080/"
        },
        "id": "KHIpjN8LCcaW",
        "outputId": "cd166a24-764c-478d-932f-1edd934d5520"
      },
      "execution_count": 14,
      "outputs": [
        {
          "output_type": "stream",
          "name": "stdout",
          "text": [
            "1\n"
          ]
        }
      ]
    },
    {
      "cell_type": "code",
      "source": [
        "# 15. Create a tuple containing three fruits and check if \"kiwi\" is in it\n",
        "fruits = ('apple', 'banana', 'orange')\n",
        "print(\"kiwi\" in fruits)\n"
      ],
      "metadata": {
        "colab": {
          "base_uri": "https://localhost:8080/"
        },
        "id": "XiMvJ4h2Cfc9",
        "outputId": "88fc4de1-ee41-405e-9c42-b6d5f39c26fa"
      },
      "execution_count": 15,
      "outputs": [
        {
          "output_type": "stream",
          "name": "stdout",
          "text": [
            "False\n"
          ]
        }
      ]
    },
    {
      "cell_type": "code",
      "source": [
        "# 16. Create a set with elements 'a', 'b', 'c' and print it\n",
        "s = {'a', 'b', 'c'}\n",
        "print(s)\n"
      ],
      "metadata": {
        "colab": {
          "base_uri": "https://localhost:8080/"
        },
        "id": "gE39jOMtCiVi",
        "outputId": "91fe214c-4c56-4f70-e0c9-393dd2c58bfe"
      },
      "execution_count": 16,
      "outputs": [
        {
          "output_type": "stream",
          "name": "stdout",
          "text": [
            "{'b', 'a', 'c'}\n"
          ]
        }
      ]
    },
    {
      "cell_type": "code",
      "source": [
        "# 17. Clear all elements from the set {1, 2, 3, 4, 5}\n",
        "s2 = {1, 2, 3, 4, 5}\n",
        "s2.clear()\n",
        "print(s2)"
      ],
      "metadata": {
        "colab": {
          "base_uri": "https://localhost:8080/"
        },
        "id": "ebujb5JvClgI",
        "outputId": "4aae6022-3e6c-4cbc-afa6-357bef998d4d"
      },
      "execution_count": 17,
      "outputs": [
        {
          "output_type": "stream",
          "name": "stdout",
          "text": [
            "set()\n"
          ]
        }
      ]
    },
    {
      "cell_type": "code",
      "source": [
        "# 18. Remove the element 4 from the set {1, 2, 3, 4}\n",
        "s3 = {1, 2, 3, 4}\n",
        "s3.discard(4)\n",
        "print(s3)\n"
      ],
      "metadata": {
        "colab": {
          "base_uri": "https://localhost:8080/"
        },
        "id": "XZi0DAcLCpNn",
        "outputId": "6b790cc6-9f16-4fd3-a106-8d743ccf5933"
      },
      "execution_count": 18,
      "outputs": [
        {
          "output_type": "stream",
          "name": "stdout",
          "text": [
            "{1, 2, 3}\n"
          ]
        }
      ]
    },
    {
      "cell_type": "code",
      "source": [
        "# 19. Find the union of two sets {1, 2, 3} and {3, 4, 5}\n",
        "print({1, 2, 3}.union({3, 4, 5}))\n"
      ],
      "metadata": {
        "colab": {
          "base_uri": "https://localhost:8080/"
        },
        "id": "aEazRTiNCsSV",
        "outputId": "698c1979-9313-4497-9c89-89c7e73e6977"
      },
      "execution_count": 19,
      "outputs": [
        {
          "output_type": "stream",
          "name": "stdout",
          "text": [
            "{1, 2, 3, 4, 5}\n"
          ]
        }
      ]
    },
    {
      "cell_type": "code",
      "source": [
        "# 20. Find the intersection of two sets {1, 2, 3} and {2, 3, 4}\n",
        "print({1, 2, 3}.intersection({2, 3, 4}))"
      ],
      "metadata": {
        "colab": {
          "base_uri": "https://localhost:8080/"
        },
        "id": "-nKWjinFCuwu",
        "outputId": "f6c010c3-9200-4366-c8dc-58752af16c05"
      },
      "execution_count": 20,
      "outputs": [
        {
          "output_type": "stream",
          "name": "stdout",
          "text": [
            "{2, 3}\n"
          ]
        }
      ]
    },
    {
      "cell_type": "code",
      "source": [
        "# 21. Create a dictionary with keys \"name\", \"age\", \"city\", and print it\n",
        "person = {\"name\": \"John\", \"age\": 30, \"city\": \"New York\"}\n",
        "print(person)"
      ],
      "metadata": {
        "colab": {
          "base_uri": "https://localhost:8080/"
        },
        "id": "bzbvVm1yCxki",
        "outputId": "6b29d496-3cfe-4ecb-974c-2e110bf6c9b0"
      },
      "execution_count": 21,
      "outputs": [
        {
          "output_type": "stream",
          "name": "stdout",
          "text": [
            "{'name': 'John', 'age': 30, 'city': 'New York'}\n"
          ]
        }
      ]
    },
    {
      "cell_type": "code",
      "source": [
        "# 22. Add a key-value pair \"country\": \"USA\" to the dictionary {'name': 'John', 'age': 25}\n",
        "person2 = {'name': 'John', 'age': 25}\n",
        "person2[\"country\"] = \"USA\"\n",
        "print(person2)"
      ],
      "metadata": {
        "colab": {
          "base_uri": "https://localhost:8080/"
        },
        "id": "x9vEP2h4C1rv",
        "outputId": "571d465d-a03b-4730-e839-16f25f2c3e7b"
      },
      "execution_count": 22,
      "outputs": [
        {
          "output_type": "stream",
          "name": "stdout",
          "text": [
            "{'name': 'John', 'age': 25, 'country': 'USA'}\n"
          ]
        }
      ]
    },
    {
      "cell_type": "code",
      "source": [
        "# 23. Access the value associated with \"name\" in the dictionary {'name': 'Alice', 'age': 30}\n",
        "person3 = {'name': 'Alice', 'age': 30}\n",
        "print(person3[\"name\"])\n"
      ],
      "metadata": {
        "colab": {
          "base_uri": "https://localhost:8080/"
        },
        "id": "RfROWAj6C446",
        "outputId": "1f385c3f-db5b-479e-82f9-2f34214c1621"
      },
      "execution_count": 23,
      "outputs": [
        {
          "output_type": "stream",
          "name": "stdout",
          "text": [
            "Alice\n"
          ]
        }
      ]
    },
    {
      "cell_type": "code",
      "source": [
        "# 24. Remove the key \"age\" from the dictionary {'name': 'Bob', 'age': 22, 'city': 'New York'}\n",
        "person4 = {'name': 'Bob', 'age': 22, 'city': 'New York'}\n",
        "del person4[\"age\"]\n",
        "print(person4)\n"
      ],
      "metadata": {
        "colab": {
          "base_uri": "https://localhost:8080/"
        },
        "id": "qwG8GTpeC72N",
        "outputId": "91bb4c0d-77d9-47c3-adf3-2b47e221f234"
      },
      "execution_count": 24,
      "outputs": [
        {
          "output_type": "stream",
          "name": "stdout",
          "text": [
            "{'name': 'Bob', 'city': 'New York'}\n"
          ]
        }
      ]
    },
    {
      "cell_type": "code",
      "source": [
        "# 25. Check if \"city\" exists in the dictionary {'name': 'Alice', 'city': 'Paris'}\n",
        "person5 = {'name': 'Alice', 'city': 'Paris'}\n",
        "print(\"city\" in person5)"
      ],
      "metadata": {
        "colab": {
          "base_uri": "https://localhost:8080/"
        },
        "id": "0W_ITveaC-eD",
        "outputId": "922ced17-cbe3-4e34-ff55-326853e487c2"
      },
      "execution_count": 25,
      "outputs": [
        {
          "output_type": "stream",
          "name": "stdout",
          "text": [
            "True\n"
          ]
        }
      ]
    },
    {
      "cell_type": "code",
      "source": [
        "# 26. Create a list, a tuple, and a dictionary, and print them\n",
        "my_list = [1, 2, 3]\n",
        "my_tuple = (4, 5, 6)\n",
        "my_dict = {'a': 7, 'b': 8}\n",
        "print(my_list, my_tuple, my_dict)"
      ],
      "metadata": {
        "colab": {
          "base_uri": "https://localhost:8080/"
        },
        "id": "rjeq2PxPDCGS",
        "outputId": "3d6892e4-3415-4305-cc89-eed269bf625b"
      },
      "execution_count": 26,
      "outputs": [
        {
          "output_type": "stream",
          "name": "stdout",
          "text": [
            "[1, 2, 3] (4, 5, 6) {'a': 7, 'b': 8}\n"
          ]
        }
      ]
    },
    {
      "cell_type": "code",
      "source": [
        "# 27. Create a list of 5 random numbers between 1 and 100, sort in ascending order, and print\n",
        "import random\n",
        "rand_nums = [random.randint(1, 100) for _ in range(5)]\n",
        "rand_nums.sort()\n",
        "print(rand_nums)\n"
      ],
      "metadata": {
        "colab": {
          "base_uri": "https://localhost:8080/"
        },
        "id": "sV_o2BLlDF3k",
        "outputId": "b6ace49d-d50c-4a69-e7f8-532d5d9925db"
      },
      "execution_count": 27,
      "outputs": [
        {
          "output_type": "stream",
          "name": "stdout",
          "text": [
            "[24, 30, 33, 61, 89]\n"
          ]
        }
      ]
    },
    {
      "cell_type": "code",
      "source": [
        "# 28. Create a list with strings and print the element at the third index\n",
        "str_list = [\"apple\", \"banana\", \"cherry\", \"date\", \"fig\"]\n",
        "print(str_list[3])"
      ],
      "metadata": {
        "colab": {
          "base_uri": "https://localhost:8080/"
        },
        "id": "e_68ZI1zDLr_",
        "outputId": "65d60cb2-cb7d-433a-b7b1-b88dea76db99"
      },
      "execution_count": 28,
      "outputs": [
        {
          "output_type": "stream",
          "name": "stdout",
          "text": [
            "date\n"
          ]
        }
      ]
    },
    {
      "cell_type": "code",
      "source": [
        "# 29. Combine two dictionaries into one and print the result\n",
        "dict1 = {'a': 1, 'b': 2}\n",
        "dict2 = {'c': 3, 'd': 4}\n",
        "combined_dict = {**dict1, **dict2}\n",
        "print(combined_dict)"
      ],
      "metadata": {
        "colab": {
          "base_uri": "https://localhost:8080/"
        },
        "id": "MHXnAt4lDOtR",
        "outputId": "289fc9c1-b2d1-439e-e735-069e3aee9d60"
      },
      "execution_count": 29,
      "outputs": [
        {
          "output_type": "stream",
          "name": "stdout",
          "text": [
            "{'a': 1, 'b': 2, 'c': 3, 'd': 4}\n"
          ]
        }
      ]
    },
    {
      "cell_type": "code",
      "source": [
        "# 30. Convert a list of strings into a set\n",
        "string_list = [\"apple\", \"banana\", \"apple\", \"cherry\"]\n",
        "string_set = set(string_list)\n",
        "print(string_set)\n"
      ],
      "metadata": {
        "colab": {
          "base_uri": "https://localhost:8080/"
        },
        "id": "BcTzWD5TDRaB",
        "outputId": "43e1cf84-ec6b-4045-e463-ceef64bd098c"
      },
      "execution_count": 30,
      "outputs": [
        {
          "output_type": "stream",
          "name": "stdout",
          "text": [
            "{'apple', 'cherry', 'banana'}\n"
          ]
        }
      ]
    }
  ]
}