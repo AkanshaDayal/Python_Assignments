{
  "nbformat": 4,
  "nbformat_minor": 0,
  "metadata": {
    "colab": {
      "provenance": []
    },
    "kernelspec": {
      "name": "python3",
      "display_name": "Python 3"
    },
    "language_info": {
      "name": "python"
    }
  },
  "cells": [
    {
      "cell_type": "markdown",
      "source": [
        "#Theory Questions:"
      ],
      "metadata": {
        "id": "fAacSj_9fzMW"
      }
    },
    {
      "cell_type": "markdown",
      "source": [
        "1. What is the difference between a function and a method in Python?\n",
        "\n",
        "   - Function: A block of code that is defined independently and can be called directly.\n",
        "\n",
        "   - Method: A function that is associated with an object or class.\n",
        "\n",
        "\n",
        "\n",
        "\n"
      ],
      "metadata": {
        "id": "SgXyBz2ef6d4"
      }
    },
    {
      "cell_type": "code",
      "execution_count": 3,
      "metadata": {
        "colab": {
          "base_uri": "https://localhost:8080/"
        },
        "id": "-gDcrVwhfsf5",
        "outputId": "d41c3529-8558-456e-943f-9641c44640c8"
      },
      "outputs": [
        {
          "output_type": "stream",
          "name": "stdout",
          "text": [
            "Hello\n",
            "PYTHON\n"
          ]
        }
      ],
      "source": [
        "#Example\n",
        "def greet():\n",
        "    return \"Hello\"    # Function\n",
        "\n",
        "print(greet())\n",
        "\n",
        "# Method\n",
        "name = \"Python\"\n",
        "print(name.upper())\n"
      ]
    },
    {
      "cell_type": "markdown",
      "source": [
        "2. Explain the concept of function arguments and parameters in Python.\n",
        "  - Parameter: A variable listed in the function definition.\n",
        "\n",
        "  - Argument: A value passed to the function when it is called.\n",
        "\n"
      ],
      "metadata": {
        "id": "bLkwgeIoh10W"
      }
    },
    {
      "cell_type": "code",
      "source": [
        "#Example\n",
        "def add(a, b):\n",
        "    return a + b\n",
        "\n",
        "print(add(3, 5))"
      ],
      "metadata": {
        "colab": {
          "base_uri": "https://localhost:8080/"
        },
        "id": "VLQsuA3XhwcA",
        "outputId": "81f12da7-633f-4196-d701-ffcfe7de9158"
      },
      "execution_count": 2,
      "outputs": [
        {
          "output_type": "stream",
          "name": "stdout",
          "text": [
            "8\n"
          ]
        }
      ]
    },
    {
      "cell_type": "markdown",
      "source": [
        "3. What are the different ways to define and call a function in Python?\n",
        "\n",
        "   Ways to define:\n",
        "  - Using def\n",
        "\n",
        " - Using lambda (anonymous function)\n",
        "\n",
        "   Ways to call:\n",
        "\n",
        " - By name with parentheses\n",
        "\n",
        " - With arguments (positional, keyword, default)"
      ],
      "metadata": {
        "id": "f1TwxfbAi8Jt"
      }
    },
    {
      "cell_type": "code",
      "source": [
        "#Example:\n",
        "\n",
        "# Regular function\n",
        "def square(x):\n",
        "    return x * x\n",
        "\n",
        "print(square(4))\n",
        "\n",
        "# Lambda function\n",
        "square_lambda = lambda x: x * x\n",
        "print(square_lambda(4))"
      ],
      "metadata": {
        "colab": {
          "base_uri": "https://localhost:8080/"
        },
        "id": "n_13PyP8i7b_",
        "outputId": "fd31f039-f903-4eff-a5c8-272bfa4940e4"
      },
      "execution_count": 4,
      "outputs": [
        {
          "output_type": "stream",
          "name": "stdout",
          "text": [
            "16\n",
            "16\n"
          ]
        }
      ]
    },
    {
      "cell_type": "markdown",
      "source": [
        "4. What is the purpose of the return statement in a Python function?\n",
        " - It ends the function and sends a value back to the caller.\n",
        "\n"
      ],
      "metadata": {
        "id": "vUjXJPsbkW1N"
      }
    },
    {
      "cell_type": "code",
      "source": [
        "#Example:\n",
        "\n",
        "def multiply(x, y):\n",
        "    return x * y\n",
        "\n",
        "result = multiply(2, 3)\n",
        "print(result)"
      ],
      "metadata": {
        "colab": {
          "base_uri": "https://localhost:8080/"
        },
        "id": "4cVQwvq0kJhT",
        "outputId": "ac64cddf-ec1b-4586-dd83-283a20d173fa"
      },
      "execution_count": 5,
      "outputs": [
        {
          "output_type": "stream",
          "name": "stdout",
          "text": [
            "6\n"
          ]
        }
      ]
    },
    {
      "cell_type": "markdown",
      "source": [
        "5. What are iterators in Python and how do they differ from iterables?\n",
        " - Iterable: An object which can return an iterator (e.g., list, tuple).\n",
        "\n",
        " - Iterator: An object with a __next__() method and __iter__() method.\n",
        "\n"
      ],
      "metadata": {
        "id": "x8pjCUyYkVb7"
      }
    },
    {
      "cell_type": "code",
      "source": [
        "#Example:\n",
        "\n",
        "nums = [1, 2, 3]\n",
        "it = iter(nums)\n",
        "\n",
        "print(next(it))"
      ],
      "metadata": {
        "colab": {
          "base_uri": "https://localhost:8080/"
        },
        "id": "LaLs3JYNk5RL",
        "outputId": "a85e2c02-5388-4b90-dab4-069df8b8c55b"
      },
      "execution_count": 6,
      "outputs": [
        {
          "output_type": "stream",
          "name": "stdout",
          "text": [
            "1\n"
          ]
        }
      ]
    },
    {
      "cell_type": "markdown",
      "source": [
        "6. Explain the concept of generators in Python and how they are defined.\n",
        " - A generator is a function that yields a sequence of values using the yield keyword.\n",
        "\n",
        " - It produces items one at a time and saves memory.\n",
        "\n"
      ],
      "metadata": {
        "id": "g65xn2sNlC6K"
      }
    },
    {
      "cell_type": "code",
      "source": [
        "#Example:\n",
        "\n",
        "def gen_nums():\n",
        "    for i in range(3):\n",
        "        yield i\n",
        "\n",
        "for num in gen_nums():\n",
        "    print(num)"
      ],
      "metadata": {
        "colab": {
          "base_uri": "https://localhost:8080/"
        },
        "id": "GUyBYX0mk96I",
        "outputId": "290200d4-e868-4aa7-a274-d87df3ee8a87"
      },
      "execution_count": 7,
      "outputs": [
        {
          "output_type": "stream",
          "name": "stdout",
          "text": [
            "0\n",
            "1\n",
            "2\n"
          ]
        }
      ]
    },
    {
      "cell_type": "markdown",
      "source": [
        "7. What are the advantages of using generators over regular functions?\n",
        " - Memory efficient: Does not store all values in memory.\n",
        "\n",
        " - Lazy evaluation: Values are generated only when needed.\n",
        "\n",
        " - Infinite sequences: Suitable for large/infinite data.\n",
        "\n"
      ],
      "metadata": {
        "id": "7FxsMZKWlVRj"
      }
    },
    {
      "cell_type": "code",
      "source": [
        "#Example (compared to list):\n",
        "\n",
        "def gen():\n",
        "    for i in range(1000000):\n",
        "        yield i"
      ],
      "metadata": {
        "id": "_fBq_gOllPCX"
      },
      "execution_count": 8,
      "outputs": []
    },
    {
      "cell_type": "markdown",
      "source": [
        "8. What is a lambda function in Python and when is it typically used?\n",
        " - A small anonymous function defined using the lambda keyword.\n",
        "\n",
        " - Used for short operations, especially in map(), filter(), etc.\n",
        "\n"
      ],
      "metadata": {
        "id": "-erXJkxkmEGW"
      }
    },
    {
      "cell_type": "code",
      "source": [
        "#Example:\n",
        "\n",
        "add = lambda x, y: x + y\n",
        "print(add(2, 3))"
      ],
      "metadata": {
        "colab": {
          "base_uri": "https://localhost:8080/"
        },
        "id": "TkueDzzllr3g",
        "outputId": "c9af71c7-1a36-46fb-d6c4-56ae3e9a76e3"
      },
      "execution_count": 14,
      "outputs": [
        {
          "output_type": "stream",
          "name": "stdout",
          "text": [
            "5\n"
          ]
        }
      ]
    },
    {
      "cell_type": "markdown",
      "source": [
        "9. Explain the purpose and usage of the map() function in Python.\n",
        " - Applies a function to all items in an iterable.\n",
        "\n"
      ],
      "metadata": {
        "id": "y80bLaJKmQtg"
      }
    },
    {
      "cell_type": "code",
      "source": [
        "#Example:\n",
        "\n",
        "nums = [1, 2, 3]\n",
        "squared = map(lambda x: x ** 2, nums)\n",
        "print(list(squared))"
      ],
      "metadata": {
        "colab": {
          "base_uri": "https://localhost:8080/"
        },
        "id": "My2pDH9bl5fD",
        "outputId": "6029b621-539e-4ce9-dd65-9bac28f17148"
      },
      "execution_count": 15,
      "outputs": [
        {
          "output_type": "stream",
          "name": "stdout",
          "text": [
            "[1, 4, 9]\n"
          ]
        }
      ]
    },
    {
      "cell_type": "markdown",
      "source": [
        "10. What is the difference between map(), reduce(), and filter() functions in Python?\n",
        "\n",
        "map()        \n",
        "\n",
        "  - Purpose: \tApplies a function to each item\n",
        "\n",
        "  - Example:  map(lambda x: x+1, [1,2]) → [2,3]\n",
        "\n",
        "reduce()\n",
        "\n",
        " - Purpose: Applies function cumulatively to items\n",
        "\n",
        " - Example: \treduce(lambda x, y: x+y, [1,2,3]) → 6\n",
        "\n",
        "filter()\n",
        "\n",
        " - Purpose: Filters items that satisfy a condition\n",
        " - Example: filter(lambda x: x > 2, [1,2,3]) → [3]\n",
        "\n",
        "\n",
        "\n"
      ],
      "metadata": {
        "id": "m1HOCZaLmgak"
      }
    },
    {
      "cell_type": "code",
      "source": [
        "#Example\n",
        "from functools import reduce\n",
        "nums = [1, 2, 3, 4]\n",
        "total = reduce(lambda x, y: x + y, nums)\n",
        "print(total)"
      ],
      "metadata": {
        "colab": {
          "base_uri": "https://localhost:8080/"
        },
        "id": "sYty_BN6mezW",
        "outputId": "bccf6fb6-ce96-4ad5-d1e9-014a63d057a6"
      },
      "execution_count": 16,
      "outputs": [
        {
          "output_type": "stream",
          "name": "stdout",
          "text": [
            "10\n"
          ]
        }
      ]
    },
    {
      "cell_type": "markdown",
      "source": [
        "11. Using pen & Paper write the internal mechanism for sum operation using  reduce function on this given\n",
        "list:[47,11,42,13];\n",
        "\n",
        "       ![reduce.png](data:image/png;base64,iVBORw0KGgoAAAANSUhEUgAAAbAAAADtCAYAAADeKSC3AAAAAXNSR0IArs4c6QAAAARnQU1BAACxjwv8YQUAAAAJcEhZcwAADsMAAA7DAcdvqGQAABJRSURBVHhe7d2/VuJcF8fx7XstMIXLK8ArABsrWjsstZnO0s4GS+me1spGuAK5ApfFwL3wnn1OTgiYhPBP3Mn3s1aemSGaHJj15Oc+yZx9tnAEAABj/pf8CgCAKQQYAMAkAgwAYBIBBgAwiQADAJhEgAEATCLAAAAmEWAAAJMIMACASQQYAMAkAgwAYBIBBgAwiQADAJhEgAEATCLAAAAmEWAAAJMIMACASQQYAMAkAgwAYBIBBgAwiQADAJhEgAEATCLAAAAmEWAAAJMIMACASQQYAMAkAgwAYBIBBgAwiQADAJhEgAEATCLAAAAmEWAAAJMIMACASQQYAMAkAgwAYBIBBgAwiQADAJhEgAEATCLAAAAmEWAAAJMIMACASQQYAMAkAgwAYBIBBgAwiQADAJhEgAEATCLAAAAmEWAAAJMIMACASQQYAMAkAgwAYBIBhgomcnt2Jmdnt+53m8zl+bLq1wLA7giw2tsmfNSRA2j+LJd+PGG7fJ7HHQQfgK0QYKigKy+LhSwWL+53e9Dwat/LtDOUmT/eTPqvTwQWgJ0QYI0TKrLL50lS8YTt1qeIVkFtuZ/q70fS032Xz+7VnOpocpt+72olVWL2Jf7QF3+k5V9oyd2HhmLReVU8d9wuZXmqsvei4vdmvwdAXRBgDTW978nXg1ZBYxm4P496Gk4aKDMZdvQrBjLWKunjLgmbDK2kHs/TKkq/fnpfoZJqn4s/9KiXCShVdN4YbMlrbhsPpnLfXp1m1Pfy2p+lYxn1CCygCQiwpuoM5a+fD+zKtSaYfMq/qhf91p18pMHWkj8X+muF79fvmw1DiE3vpa0V00qQrZm/y6tWZYPrdOqy6wc7krdsgrn38t+djqYlV309+lS+ZrpDg1GD70P8bgC1QoBhJ5Pb5ZRdb5S8WIWGmFZTmSC7KSqX4pSjVmzJuc4qnuyzchoDsIoAw9bmz5c+tAbjOK2X7NiGBlnyjdNQLhXqDHV6MJwrbi8bnia5+EPJBdQdAYY1VacEO3Le1l8n8laxAtPgyz7sMUm+cXCtaZRz3u61vz+38f5aWsVN5Mk/CTIQf0ge4gBqjQDDN92/Or2nD0u4i3/OParW3YOLiGT/Wc/lRbUSrHX3n/Rf2+l0YKziYjX1/bz6+L4+ZJI8mZhua/9WrDOQC3/cnvtKPeaej/sDMOFsofMxgEn6GL0LLf13ZXlPSwKoNSowAIBJBBgAwCSmEAEAJlGBAQBMIsAAACYRYAAAkwgwAIBJBBjWVGmAuU2TzLgaRpWvjbY5/jZWW7Ms265gK9lWOmWLMQNHRoDV3r5hsEsAVZWMbeeL4K5jC+1ZVtdTzIZbsvTUWs+zuFXqfebo0ln+e3LeX9m+cjnjVLv0Z0sUjmXtmGngd18ktuEBTokAw5oq3ZcP1KG50LGPn2PyJPfTjnT8EvkJf6FeLiAcFy3evFBwCJl26NC5pmxfBXnj1KB5u07GGfuztStUmCVj0Z5v8ZhJ54DQMw74PQiwxglVz+Yuxnqx0t8fsUNzoe/Hz7ZvOfOD3TS2bRbwdZ9JbySd4YP0k1e+cRf0R11oMe2jVsL3MevIcJy0jMkq27dRwTg1aNNyMvZEq9BSpmws2i0gHrP1R/w6y8AvQ4A1VH5H5nVH7tBclQtHXfg3tlWZnb+5cKo4tgrmz48uAgfycOeX1881f3/1vck6/avN5/A9zz4k93Bl+zaoMk41+woV1cZKsepYJm9+keRsY1HgNyDAmmqfjszr9EK4S4fmLU1f3119pad7KemwvG0X5tCCpTP8W3Jxjm1aOtK/qnTQI6gyTicJ++Xf7+7Se2P+gO6HhE1N2IAfRoDhIHbu0FxF9yXcf5reS9uf43D3Yia32oJFq5qSYEorkIeKoXh4lcaplXAMmwOszt+6+wj3wHyVHqZpeXITvwkBhr3pT+p63dyrQ/MG3Zdw7JmfMxzJ41732KK5/PvUX2O/sXhPTXuSxXtoc3n2N790Bu1UFUiVcU7ktn3vXtHp1EM//BKr9Ar31YAfRIBhg+N1aK5KAzI+FNIKg0nkjW2bhzjidGPc4j21jgxnyRSkf9BBX4tdnqNdHhbZpOiYm8apD+aECu17eO04zslt5kGcGKCnnEIFviPAsNGxOjSn0qnB/AvtSifnUOrJRzKVtmls+0of3ii893Qh356V0Kk8HauviJz4/nT+rWxfKueYJcLDHSpWaMm28nlsOc7ui/wnN8mxtOLLhDrwS9BOBQ2i1YhejA8wzaYXf3fhd1f1NEz3ZuWYXlL10Q0bJ0QFhgba/4GEyZOrWtzF+78DhoKVY+r0olbaB54pBrZGBQYAMIkKDABgEgEGADCJAAMAmESAAQBMIsAAACYRYAAAkwiwJogrLiRbdomgsMzQ4RbHzbN792H9J0drY17rO7bc9nsPcYx5fczK9m0nft6ZLfuP0dbe2/7nA+qNAKu7ZCUG/cessV9X//WAvbpKhQv27t2Hb6X3OZCBX/cvsdYlWTe/eHBhr6owhuJ/tKwrSpzJjTwk6wtmle3bXVz02G9pixJ3rt6nDGfJ67OhyP3NAddZBOqHAKu72VdY5+7iT7Lcjy4Mq8soxWWV9LVkDb20QlqvFLLrE4aLenFH54zS7sPxHEWLzLr9jyMZPPyV8+SVXC6gH0fuHDs3v+rKiwuMj9yujmX7Dmz+Tz6z6xXSBRnYiACru/Z5CI9Rb20Kr6ijcQy25DW3jQe6WO7qFJ12dH7ta4fkcIxRLyeI9uo+fCP3F2PZ1EPRL5V0wj5dXtG0ZsGU6agXvybzmbnP6mGgP0jo56x/Bz35HP7H4rlACQKs7jREZkkFFFcbL7sXFduHZKbkur4Z1EjesgmWrq/Xkqu+Hn0qXzO/p6KSzsmuqrq5v5DNHYBD65a8Pl3pfbekd9YyNI5wvy9nWtNv3xa5XW2L4mcJMz8YaM+zsQ8xN2Y58PqFQA0RYE3gKyF30cwE2U3RzZU45agVm7/gu61ii+XDNDt01cfNvVyMN68W79uIuCDNmz1cdhMOFeLyvtOhmz3uLrShiT8YhKnZt+sk3Pqv7oeNoulVAIoAaxINsqRd8nRDudQZ6vRgvOiHbVNBdLFNE6tCM/laqZhCBTW9b69VjhN5cjsGD7+glceWU4gpf98rNAJdD2PtgTbsTOX1nQQDihBgNZftZqwmSbvkMO2W09G4e+2qAg2MDU8qplVcCBK9j7Zdx/2ihzjCgxPL4AwVlA/UzJRcaOK47TmPpOIU4uR29b2GVid90SbHvtP09MvFdyKZyj3MDwVATbn/0VBrs4ULAG2Zk26DcbJLzYYLlw9hX2fovlqNFy7EVr7HBZR7NbOvM1gMMsddOWaUPXZ2818cx9VZDMNJC4SvcwGW/FmFMay+tqu89xqPXbZvB+PB6rHSzztwxfHK/sO8P6C+6AeGLem9GjrxAjg9phABACYRYAAAk5hCBACYRAUGADCJAAMAmESAAQBMIsAAACYRYAAAkwiwJjhlR+adugzHcWW2H+hc/K37s7Nc1T5sxY0xqyvs8Lz297RyrrJ9QEMRYHWnF75TdWTWoHm7TtYGDGsa6qK8VS++h+lcHMJw4zndWL91f9a2Lq/95HPT9icdGfX2Cfuw4nxh92f39+TeWHhf44E7V1w7sWwf0FwEWN2dsiOzLnKbBk/sGxbbrsRzbHkhPkrnYjeWvO7Punp/Zrms1lVfOtmFj7dW0uF58uYXJ36IPcC6f/1q9L5pQNk+oMEIsLo7ZUfmNTPtk+JUXWH9pzoXV+3+HH4YyIRntGs7lYz5v0+RzrmsR5uGfdk+oMkIsLr7LR2ZdYpOO7mkPa9KOjKn+8K2S+fiyh2ZdZqwUvfnUKV1hn+/N8Ss3JF5G7HVTZ6yfUBzEGBNcOqOzHofzh/DVXU7XNR36VxcrSOzC6Wbat2fJ7fFYXkcc9HCK1/ZPqA5CLAmOUlH5vAAwtRPU+7Yzv9onYurdX/WpxN7nyXtYw4whfitoWVCP9OyfUCjuQsTamw27Kw0RoxNE2MDyvDnbFPJ2MQxNrBct2zyuNr0Me/ry/YVN7QcD1Zf82OMzR99U8jM8ZKmmbkNNb1wnuL9WevNM5MxrjWe3F9xk850nCvvs2wf0FwEWO3FoFhuKxfzI3Zk1vBcPUay+fPEceV0ZD5Z5+K1YFkfR9yqpWGOvM81c76VDtZrn0vZPqChaKeCLek9KDoyAzg97oEBAEwiwAAAJjGFCAAwiQoMAGASAQYAMIkAAwCYRIABAEwiwAAAJhFgTbDWzfeUHZm36ST8WzoXF41jtVvzYT7Dwvfs/OQ4AAsIsLrTC/qpOjLruWNH5mQl/GodjcOK88fvXBwCvDjkysfxlOnW7Nu77JWWG97zj40DsIMAq7tTdmTW1e/jEvbfOifHc+QFzG/pXFwyDt2XWUqrfe6S5fNf8vntYsO5fmwcgB0EWN39lo7MPlycTKPMXfzOzsWuCnI/CXT6V2mQpA7QaqW6knEANUSA1d2JOzKn92diQ8u0qVhZR+ZtbN+5eHnPaEO35k3ScOrJaDB2FVLOGzlKt+Y1VcYB1BAB1gQn7Mi87Iw8dvEVpioPe4tm+87F1bo1V5AJp9n5o/usTvQAxW8ZB/DDCLAmOUlH5qgrvpBz9pnS+62di1tXfffDwad8e2s/OoVYMg6ghgiwmtPpsuxj15O3UE0NrjWN4hRb5oLXvXaVkhZpG55UTKu4cN9Fpwf9IbPcxXt57lgNdaR/pYFS9hBHCT++zHTm5Mnfr/PnLtt3aPqEZaaUnL+/usr1Qr5l5bGnEKuOA6gj9z8Tau10HZnValfmbCfhko7Mv6Zzcdk41j/XY57rJ8cB2EE7FWxJH6OnIzOA02MKEQBgEgEGADCJKUQAgElUYAAAkwgwAIBJBBgAwCQCDABgEgEGADCJAAMAmESAAQBMIsAAACYRYAAAkwgwAIBJBBgAwCQCDABgEgEGADCJAAMAmESAAQBMIsAAACYRYAAAkwgwAIBJBBgAwCQCDABgEgEGADCJAAMAmESA4Ujm8nx5JmdntzJJXgGAQyLAam8it2caJKvb7Y+nymEDbf586d/H5fM8eWWpaF98PWwEK2AdAdYUnaHMFgtZLGYy7IiMepeSc+03IATyjTz497GqfN/Taz/5DBYyHoyk9/MpDuCACLDGacmfC/11Kl8z/4ITq6O4rYbb5DazL170589ymf1zeoy8YNR9bbmf6u9dcOj3XT67V3fRlRcXQB937eTPWRv2fdy5dx+0z13Cff7bcQwAfgMCrHEm8jbSXwdy3dVfY7gMZJxWJ1O5bydTbJNb6bmv7wxnft/s/G2Hyq0ldx+h8tPz+vNkwsRz51kGaGbbOejKuGrMpWmnf7U6BgCmEGBNMb2Xtg+Fnoz8dOKLq0mc+bu8amU0uA5/drrXA/ffkbxlZtimr+8+SFp3L3J3jKt+98UH5LdtPej2kYak+wwGY1epEV+AZQRYUyT3wGZaBrkwu4ll1OxLwsxeb1n1aMkVuWAZa56lAWj44YdMSM7OH22/FwAEWNO0rvqiM3mxooriFGF2e0lKsu5LctH3c4AjeTzG0x8/OoUYP4dP+XeMgwP4EQRY07Tu5CGpqJ60/OheS/jjU241oo+ex8fRW+Hpj6D1R/yfRm/JvbKn5CGNIvHhkYLQOPYUoj50knnqcP7+6irPC/nDLCJgl7tIoNbGCxdQC1diLWbJK4vxYKF/9TIYxxfC16xsA/eqmi1c4bV8Pf0eJx5HN3f88bDjft9ZDP2J4vfF4ziz4cLVcOnXp+PZSt5YZeEqyA371t5HOk4AVp3pf9z/0AAAmMIUIgDAJAIMAGASAQYAMIkAAwCYRIABAEwiwAAAJhFgAACTCDAAgEkEGADAJAIMAGASAQYAMIkAAwCYRIABAEwiwAAAJhFgAACTCDAAgEkEGADAJAIMAGASAQYAMIkAAwCYRIABAEwiwAAAJhFgAACTCDAAgEkEGADAJAIMAGASAQYAMIkAAwCYRIABAEwiwAAAJhFgAACTCDAAgEkEGADAJAIMAGASAQYAMIkAAwCYRIABAEwiwAAAJhFgAACTCDAAgEkEGADAJAIMAGASAQYAMIkAAwCYRIABAEwiwAAAJhFgAACTCDAAgEkEGADAJAIMAGASAQYAMIkAAwCYRIABAEwiwAAAJhFgAACTCDAAgEkEGADAJAIMAGASAQYAMIkAAwCYRIABAEwiwAAAJhFgAACTCDAAgEkEGADAJAIMAGCQyP8B007mZHQx7h4AAAAASUVORK5CYII=)"
      ],
      "metadata": {
        "id": "A60ZX0GWo8x-"
      }
    },
    {
      "cell_type": "markdown",
      "source": [
        "#Practical Questions:"
      ],
      "metadata": {
        "id": "Uor8JAuBsNko"
      }
    },
    {
      "cell_type": "code",
      "source": [
        "#1. Write a Python function that takes a list of numbers as input and returns the sum of all even numbers in  the list.\n",
        "def sum_even_numbers(numbers):\n",
        "    return sum(num for num in numbers if num % 2 == 0)\n",
        "\n",
        "sum_even_numbers([1, 2, 3, 4, 5, 6])"
      ],
      "metadata": {
        "colab": {
          "base_uri": "https://localhost:8080/"
        },
        "id": "dqxm_FOYo5z7",
        "outputId": "527f7865-a7ab-4b69-c2de-3fbfe412215c"
      },
      "execution_count": 19,
      "outputs": [
        {
          "output_type": "execute_result",
          "data": {
            "text/plain": [
              "12"
            ]
          },
          "metadata": {},
          "execution_count": 19
        }
      ]
    },
    {
      "cell_type": "code",
      "source": [
        "#2. Create a Python function that accepts a string and returns the reverse of that string.\n",
        "def reverse_string(s):\n",
        "    return s[::-1]\n",
        "\n",
        "reverse_string(\"hello\")"
      ],
      "metadata": {
        "colab": {
          "base_uri": "https://localhost:8080/",
          "height": 35
        },
        "id": "g_iTPIIquC5F",
        "outputId": "9f92f2ba-a638-4e57-b1b0-163e0f15ea4f"
      },
      "execution_count": 18,
      "outputs": [
        {
          "output_type": "execute_result",
          "data": {
            "text/plain": [
              "'olleh'"
            ],
            "application/vnd.google.colaboratory.intrinsic+json": {
              "type": "string"
            }
          },
          "metadata": {},
          "execution_count": 18
        }
      ]
    },
    {
      "cell_type": "code",
      "source": [
        "#3. Implement a Python function that takes a list of integers and returns a new list containing the squares of  each number.\n",
        "def square_list(numbers):\n",
        "    return [num ** 2 for num in numbers]\n",
        "\n",
        "square_list([1, 2, 3, 4])\n"
      ],
      "metadata": {
        "colab": {
          "base_uri": "https://localhost:8080/"
        },
        "id": "EgANyAiSuVvM",
        "outputId": "1ea735d1-bf40-4259-e39c-152b2c696f90"
      },
      "execution_count": 20,
      "outputs": [
        {
          "output_type": "execute_result",
          "data": {
            "text/plain": [
              "[1, 4, 9, 16]"
            ]
          },
          "metadata": {},
          "execution_count": 20
        }
      ]
    },
    {
      "cell_type": "code",
      "source": [
        "#4. Write a Python function that checks if a given number is prime or not from 1 to 200.\n",
        "def is_prime(n):\n",
        "    if n < 2:\n",
        "        return False\n",
        "    for i in range(2, int(n**0.5)+1):\n",
        "        if n % i == 0:\n",
        "            return False\n",
        "    return True\n",
        "is_prime(180)\n"
      ],
      "metadata": {
        "colab": {
          "base_uri": "https://localhost:8080/"
        },
        "id": "wh4eSu-rulwt",
        "outputId": "6af0207c-ee28-4697-e8f0-b411f38a6789"
      },
      "execution_count": 27,
      "outputs": [
        {
          "output_type": "execute_result",
          "data": {
            "text/plain": [
              "False"
            ]
          },
          "metadata": {},
          "execution_count": 27
        }
      ]
    },
    {
      "cell_type": "code",
      "source": [
        "#5. Create an iterator class in Python that generates the Fibonacci sequence up to a specified number of terms.\n",
        "class Fibonacci:\n",
        "    def __init__(self, n):\n",
        "        self.n = n\n",
        "        self.a, self.b = 0, 1\n",
        "        self.count = 0\n",
        "\n",
        "    def __iter__(self):\n",
        "        return self\n",
        "\n",
        "    def __next__(self):\n",
        "        if self.count >= self.n:\n",
        "            raise StopIteration\n",
        "        result = self.a\n",
        "        self.a, self.b = self.b, self.a + self.b\n",
        "        self.count += 1\n",
        "        return result\n",
        "\n",
        "\n",
        "for num in Fibonacci(10):\n",
        "    print(num, end=' ')\n"
      ],
      "metadata": {
        "colab": {
          "base_uri": "https://localhost:8080/"
        },
        "id": "VbPU0ygSvCZ_",
        "outputId": "2be488a4-e22e-4fc6-d034-5a3b53ebb62d"
      },
      "execution_count": 40,
      "outputs": [
        {
          "output_type": "stream",
          "name": "stdout",
          "text": [
            "0 1 1 2 3 5 8 13 21 34 "
          ]
        }
      ]
    },
    {
      "cell_type": "code",
      "source": [
        "#6. Write a generator function in Python that yields the powers of 2 up to a given exponent.\n",
        "def powers_of_two(n):\n",
        "    for i in range(n + 1):\n",
        "        yield 2 ** i\n",
        "\n",
        "print(list(powers_of_two(5)))\n"
      ],
      "metadata": {
        "colab": {
          "base_uri": "https://localhost:8080/"
        },
        "id": "t2-yOk_DvWwr",
        "outputId": "17208635-5fb5-44a1-f8c9-e9badda029b6"
      },
      "execution_count": 41,
      "outputs": [
        {
          "output_type": "stream",
          "name": "stdout",
          "text": [
            "[1, 2, 4, 8, 16, 32]\n"
          ]
        }
      ]
    },
    {
      "cell_type": "code",
      "source": [
        "#7. Implement a generator function that reads a file line by line and yields each line as a string.\n",
        "def read_file_lines(filename):\n",
        "    with open(filename, 'r') as file:\n",
        "        for line in file:\n",
        "            yield line.strip()\n",
        "\n"
      ],
      "metadata": {
        "id": "z-WiK5pkybwp"
      },
      "execution_count": 48,
      "outputs": []
    },
    {
      "cell_type": "code",
      "source": [
        "#8. Use a lambda function in Python to sort a list of tuples based on the second element of each tuple.\n",
        "data = [(1, 3), (2, 1), (4, 2)]\n",
        "sorted(data, key=lambda x: x[1])"
      ],
      "metadata": {
        "colab": {
          "base_uri": "https://localhost:8080/"
        },
        "id": "yuhBdyvs0B06",
        "outputId": "3f775484-c13a-4f65-c0c9-981c0bd26987"
      },
      "execution_count": 50,
      "outputs": [
        {
          "output_type": "execute_result",
          "data": {
            "text/plain": [
              "[(2, 1), (4, 2), (1, 3)]"
            ]
          },
          "metadata": {},
          "execution_count": 50
        }
      ]
    },
    {
      "cell_type": "code",
      "source": [
        "#9. Write a Python program that uses map() to convert a list of temperatures from Celsius to Fahrenheit.\n",
        "celsius = [0,10,20,30,50]\n",
        "\n",
        "list(map(lambda c: c*(9/5)+32, celsius))"
      ],
      "metadata": {
        "colab": {
          "base_uri": "https://localhost:8080/"
        },
        "id": "_OosWA3L3J_R",
        "outputId": "4c46cda3-5fd3-447a-a8e9-4b4df54a7c57"
      },
      "execution_count": 51,
      "outputs": [
        {
          "output_type": "execute_result",
          "data": {
            "text/plain": [
              "[32.0, 50.0, 68.0, 86.0, 122.0]"
            ]
          },
          "metadata": {},
          "execution_count": 51
        }
      ]
    },
    {
      "cell_type": "code",
      "source": [
        "#10. Create a Python program that uses filter() to remove all the vowels from a given string.\n",
        "def remove_vowels(s):\n",
        "    vowels = 'aeiouAEIOU'\n",
        "    return ''.join(filter(lambda x: x not in vowels, s))\n",
        "\n",
        "remove_vowels(\"Hello World\")\n"
      ],
      "metadata": {
        "colab": {
          "base_uri": "https://localhost:8080/",
          "height": 35
        },
        "id": "l5riefWD3xCA",
        "outputId": "efe7ed01-14df-4b8d-ec18-34a69420edd3"
      },
      "execution_count": 52,
      "outputs": [
        {
          "output_type": "execute_result",
          "data": {
            "text/plain": [
              "'Hll Wrld'"
            ],
            "application/vnd.google.colaboratory.intrinsic+json": {
              "type": "string"
            }
          },
          "metadata": {},
          "execution_count": 52
        }
      ]
    },
    {
      "cell_type": "markdown",
      "source": [
        "11.  Imagine an accounting routine used in a book shop. It works on a list with sublists, which look like this:\n",
        "\n",
        "Order Number   | Book Title                 | Quantity | Price per Item\n",
        "-------------- | -------------------------- | -------- | ---------------\n",
        "34587          | Learning Python            | 4        | 40.95\n",
        "98762          | Programming Python         | 5        | 56.80\n",
        "77226          | Head First Python          | 3        | 32.95\n",
        "88112          | Einführung in Python3      | 3        | 24.99\n",
        "\n",
        "\n",
        "Write a Python program, which returns a list with 2-tuples. Each tuple consists of the order number and the product of the price per item and the quantity. The product should be increased by 10.00 € if the value of the order is smaller than 100.00 €.\n",
        "\n",
        "Write a Python program using lambda and map."
      ],
      "metadata": {
        "id": "7YlKngsg7PUS"
      }
    },
    {
      "cell_type": "code",
      "source": [
        "orders = [\n",
        "    [34587, \"Learning Python, Mark Lutz\", 4, 40.95],\n",
        "    [98762, \"Programming Python, Mark Lutz\", 5, 56.80],\n",
        "    [77226, \"Head First Python, Paul Barry\", 3, 32.95],\n",
        "    [88112, \"Einführung in Python3, Bernd Klein\", 3, 24.99]\n",
        "]\n",
        "\n",
        "result = list(map(lambda order:\n",
        "    (order[0], order[2] * order[3] + 10 if order[2] * order[3] < 100 else order[2] * order[3]),\n",
        "    orders))\n",
        "\n",
        "print(result)\n"
      ],
      "metadata": {
        "colab": {
          "base_uri": "https://localhost:8080/"
        },
        "id": "IPGvU2wT6GT4",
        "outputId": "c9736a56-02c8-4e5b-eb53-ee7d2f45c72b"
      },
      "execution_count": 55,
      "outputs": [
        {
          "output_type": "stream",
          "name": "stdout",
          "text": [
            "[(34587, 163.8), (98762, 284.0), (77226, 108.85000000000001), (88112, 84.97)]\n"
          ]
        }
      ]
    },
    {
      "cell_type": "code",
      "source": [],
      "metadata": {
        "id": "RDLrCrmc_LdW"
      },
      "execution_count": null,
      "outputs": []
    }
  ]
}