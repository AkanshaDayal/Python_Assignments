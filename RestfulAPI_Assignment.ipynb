{
  "nbformat": 4,
  "nbformat_minor": 0,
  "metadata": {
    "colab": {
      "provenance": []
    },
    "kernelspec": {
      "name": "python3",
      "display_name": "Python 3"
    },
    "language_info": {
      "name": "python"
    }
  },
  "cells": [
    {
      "cell_type": "markdown",
      "source": [
        "#Theory Questions:\n",
        "\n",
        "1. 1. What is a RESTful API?\n",
        "  - A RESTful API follows the principles of REST (Representational State Transfer). It allows communication between client and server using stateless HTTP requests (GET, POST, PUT, DELETE).\n",
        "\n",
        "2.  Explain the concept of API specification.\n",
        "  - An API specification defines how the API works—its endpoints, methods, request/response formats, authentication, etc. OpenAPI (Swagger) is a common format for specifying APIs.\n",
        "\n",
        "3. What is Flask, and why is it popular for building APIs?\n",
        "  - Flask is a lightweight Python web framework. It's popular because it’s simple, flexible, easy to learn, and allows quick development of REST APIs.\n",
        "\n",
        "4. What is routing in Flask?\n",
        "  - Routing maps a URL to a function. For example, @app.route('/hello') binds the /hello URL to a Python function that returns a response.\n",
        "\n",
        "\n",
        "\n"
      ],
      "metadata": {
        "id": "5sofUEsKSTmR"
      }
    },
    {
      "cell_type": "code",
      "execution_count": 1,
      "metadata": {
        "id": "DlyzwSnPSIwv",
        "colab": {
          "base_uri": "https://localhost:8080/"
        },
        "outputId": "4b2cac68-7566-4246-9de3-1d200ea56f6c"
      },
      "outputs": [
        {
          "output_type": "stream",
          "name": "stdout",
          "text": [
            " * Serving Flask app '__main__'\n",
            " * Debug mode: on\n"
          ]
        },
        {
          "output_type": "stream",
          "name": "stderr",
          "text": [
            "INFO:werkzeug:\u001b[31m\u001b[1mWARNING: This is a development server. Do not use it in a production deployment. Use a production WSGI server instead.\u001b[0m\n",
            " * Running on http://127.0.0.1:5000\n",
            "INFO:werkzeug:\u001b[33mPress CTRL+C to quit\u001b[0m\n",
            "INFO:werkzeug: * Restarting with stat\n"
          ]
        }
      ],
      "source": [
        "#5. How do you create a simple Flask application?\n",
        "from flask import Flask\n",
        "app = Flask(__name__)\n",
        "\n",
        "@app.route('/')\n",
        "def home():\n",
        "    return \"Hello, Flask!\"\n",
        "\n",
        "if __name__ == '__main__':\n",
        "    app.run(debug=True)"
      ]
    },
    {
      "cell_type": "markdown",
      "source": [
        "6. What are HTTP methods used in RESTful APIs?\n",
        "  - GET – Retrieve data\n",
        "\n",
        "  - POST – Create data\n",
        "\n",
        "  - PUT – Update/replace data\n",
        "\n",
        "  - PATCH – Partially update data\n",
        "\n",
        "  - DELETE – Remove data\n",
        "\n",
        "7. What is the purpose of the @app.route() decorator in Flask?\n",
        "  - It defines the route URL and binds it to a function that handles the HTTP request.\n",
        "\n",
        "8. What is the difference between GET and POST HTTP methods?\n",
        "  - GET: Retrieves data, parameters are in the URL\n",
        "\n",
        "  - POST: Sends data to the server, typically in the request body."
      ],
      "metadata": {
        "id": "sNsaBowXUfVY"
      }
    },
    {
      "cell_type": "code",
      "source": [
        "#9. How do you handle errors in Flask APIs?\n",
        "@app.errorhandler(404)\n",
        "def not_found(e):\n",
        "    return {\"error\": \"Not Found\"}, 404"
      ],
      "metadata": {
        "id": "JhPD9VQvVfPq"
      },
      "execution_count": 2,
      "outputs": []
    },
    {
      "cell_type": "code",
      "source": [
        "#10. How do you connect Flask to a SQL database?\n",
        "from flask_sqlalchemy import SQLAlchemy\n",
        "app.config['SQLALCHEMY_DATABASE_URI'] = 'sqlite:///mydb.db'\n",
        "db = SQLAlchemy(app)"
      ],
      "metadata": {
        "id": "ptb_Y8mPVmZP"
      },
      "execution_count": 4,
      "outputs": []
    },
    {
      "cell_type": "markdown",
      "source": [
        "11. What is the role of Flask-SQLAlchemy?\n",
        "  - It provides an ORM (Object Relational Mapper) for interacting with SQL databases using Python classes.\n",
        "\n",
        "12. What are Flask blueprints, and how are they useful?\n",
        "  - Blueprints allow organizing Flask apps into modular components. Useful for large applications to separate routes by features.\n",
        "\n"
      ],
      "metadata": {
        "id": "F_I3dZkQWCyx"
      }
    },
    {
      "cell_type": "code",
      "source": [
        "#13. What is the purpose of Flask's request object?\n",
        "from flask import request\n",
        "data = request.get_json()\n"
      ],
      "metadata": {
        "id": "AoFiMVHFVz90"
      },
      "execution_count": 7,
      "outputs": []
    },
    {
      "cell_type": "code",
      "source": [
        "#14. How do you create a RESTful API endpoint using Flask?\n",
        "@app.route('/api/data', methods=['GET'])\n",
        "def get_data():\n",
        "    return jsonify({\"message\": \"Success\"})"
      ],
      "metadata": {
        "id": "0L5ZFLpnWR_K"
      },
      "execution_count": 8,
      "outputs": []
    },
    {
      "cell_type": "markdown",
      "source": [
        "15. What is the purpose of Flask's jsonify() function?\n",
        "  - It converts Python dictionaries to JSON and sets the correct Content-Type for the response.\n",
        "\n"
      ],
      "metadata": {
        "id": "60gMYpUAWsDb"
      }
    },
    {
      "cell_type": "code",
      "source": [
        "#16. Explain Flask’s url_for() function.\n",
        "#Generates a URL for a given function name. Useful for linking routes without hardcoding URLs.\n",
        "url_for('home')"
      ],
      "metadata": {
        "id": "5yVBxo11Wk16"
      },
      "execution_count": 10,
      "outputs": []
    },
    {
      "cell_type": "markdown",
      "source": [
        "17. How does Flask handle static files (CSS, JavaScript, etc.)?\n",
        "  - By default, Flask serves files from the /static directory. Example: http://localhost:5000/static/style.css\n",
        "\n",
        "18. What is an API specification, and how does it help in building a Flask API?\n",
        "  - An API specification outlines the structure of the API (endpoints, parameters, responses). Helps ensure consistency, documentation, and automation."
      ],
      "metadata": {
        "id": "YJteBDfrXDG4"
      }
    },
    {
      "cell_type": "code",
      "source": [
        "#19. What are HTTP status codes, and why are they important in a Flask API?\n",
        "#Status codes indicate the result of an HTTP request (e.g. 200 OK, 404 Not Found). They help clients understand the response.\n",
        "return {\"message\": \"Created\"}, 201"
      ],
      "metadata": {
        "id": "Gp15cnv5W7e8"
      },
      "execution_count": null,
      "outputs": []
    },
    {
      "cell_type": "code",
      "source": [
        "#20. How do you handle POST requests in Flask?\n",
        "@app.route('/submit', methods=['POST'])\n",
        "def submit():\n",
        "    data = request.get_json()\n",
        "    return jsonify(data), 201"
      ],
      "metadata": {
        "id": "MZYfhHqVXbfO"
      },
      "execution_count": 11,
      "outputs": []
    },
    {
      "cell_type": "markdown",
      "source": [
        "21. How would you secure a Flask API?\n",
        "  - Use authentication (e.g. JWT, OAuth)\n",
        "\n",
        "  - Validate input\n",
        "\n",
        "  - Use HTTPS\n",
        "\n",
        "  - Limit request rate\n",
        "\n",
        "  - Sanitize data to prevent injection attacks\n",
        "\n"
      ],
      "metadata": {
        "id": "soOEVPF2XixF"
      }
    },
    {
      "cell_type": "code",
      "source": [
        "#22. What is the significance of the Flask-RESTful extension?\n",
        "#It simplifies building REST APIs by providing classes like Resource and supporting method-based routing.\n",
        "\n",
        "from flask_restful import Resource\n",
        "class Hello(Resource):\n",
        "   def get(self):\n",
        "       return {\"message\": \"Hello\"}\n"
      ],
      "metadata": {
        "id": "7UzzJCIYXxFP"
      },
      "execution_count": 13,
      "outputs": []
    },
    {
      "cell_type": "markdown",
      "source": [
        "23. What is the role of Flask’s session object?\n",
        "  - It stores data across requests for a user using cookies. Useful for login sessions or user preferences.\n",
        "\n"
      ],
      "metadata": {
        "id": "CmImEIPjYCKI"
      }
    },
    {
      "cell_type": "markdown",
      "source": [
        "#Practical Questions:"
      ],
      "metadata": {
        "id": "nzAPfbr0YKAj"
      }
    },
    {
      "cell_type": "code",
      "source": [
        "#1. How do you create a basic Flask application?\n",
        "from flask import Flask\n",
        "app = Flask(__name__)\n",
        "\n",
        "@app.route('/')\n",
        "def home():\n",
        "    return \"Hello, Flask!\"\n",
        "\n",
        "if __name__ == '__main__':\n",
        "    app.run(debug=True)"
      ],
      "metadata": {
        "id": "NpYPVZePaDAs"
      },
      "execution_count": null,
      "outputs": []
    },
    {
      "cell_type": "code",
      "source": [
        "#2. How do you serve static files like images or CSS in Flask?\n",
        "\n",
        "<!-- index.html -->\n",
        "<link rel=\"stylesheet\" href=\"{{ url_for('static', filename='style.css') }}\">\n",
        "<img src=\"{{ url_for('static', filename='logo.png') }}\">"
      ],
      "metadata": {
        "id": "TGhcN1o6YdiF"
      },
      "execution_count": null,
      "outputs": []
    },
    {
      "cell_type": "code",
      "source": [
        "#3. How do you define different routes with different HTTP methods in Flask?\n",
        "@app.route('/submit', methods=['GET', 'POST'])\n",
        "def submit():\n",
        "    if request.method == 'POST':\n",
        "        return \"Form submitted!\"\n",
        "    return \"Submit form\""
      ],
      "metadata": {
        "id": "r6UNXfizZu2y"
      },
      "execution_count": 15,
      "outputs": []
    },
    {
      "cell_type": "code",
      "source": [
        "#4. How do you render HTML templates in Flask?\n",
        "\n",
        "from flask import render_template\n",
        "\n",
        "@app.route('/hello')\n",
        "def hello():\n",
        "    return render_template('hello.html', name='Akansha')"
      ],
      "metadata": {
        "id": "TIMLnihAZ3St"
      },
      "execution_count": 16,
      "outputs": []
    },
    {
      "cell_type": "code",
      "source": [
        "#5. How can you generate URLs for routes in Flask using url_for?\n",
        "\n",
        "@app.route('/about')\n",
        "def about():\n",
        "    return \"About page\"\n",
        "\n",
        "@app.route('/')\n",
        "def index():\n",
        "    return redirect(url_for('about'))"
      ],
      "metadata": {
        "id": "FCGvA71HaNFL"
      },
      "execution_count": 17,
      "outputs": []
    },
    {
      "cell_type": "code",
      "source": [
        "#6. How do you handle forms in Flask?\n",
        "\n",
        "from flask import request\n",
        "\n",
        "@app.route('/form', methods=['GET', 'POST'])\n",
        "def form():\n",
        "    if request.method == 'POST':\n",
        "        name = request.form['name']\n",
        "        return f\"Hello, {name}\"\n",
        "    return '''\n",
        "        <form method=\"POST\">\n",
        "            <input name=\"name\">\n",
        "            <input type=\"submit\">\n",
        "        </form>\n",
        "    '''"
      ],
      "metadata": {
        "id": "XA1HAwIKaXjz"
      },
      "execution_count": 18,
      "outputs": []
    },
    {
      "cell_type": "code",
      "source": [
        "#7. How can you validate form data in Flask?\n",
        "\n",
        "@app.route('/validate', methods=['POST'])\n",
        "def validate():\n",
        "    name = request.form.get('name', '')\n",
        "    if not name:\n",
        "        return \"Name is required\", 400\n",
        "    return f\"Welcome, {name}\""
      ],
      "metadata": {
        "id": "Y8hC3tQGaf7w"
      },
      "execution_count": 19,
      "outputs": []
    },
    {
      "cell_type": "code",
      "source": [
        "#8. How do you manage sessions in Flask?\n",
        "\n",
        "from flask import session\n",
        "\n",
        "app.secret_key = 'secret123'\n",
        "\n",
        "@app.route('/set/')\n",
        "def set_session():\n",
        "    session['user'] = 'Akansha'\n",
        "    return \"Session set\"\n",
        "\n",
        "@app.route('/get/')\n",
        "def get_session():\n",
        "    return f\"User: {session.get('user')}\""
      ],
      "metadata": {
        "id": "DQQGI23BaliV"
      },
      "execution_count": 20,
      "outputs": []
    },
    {
      "cell_type": "code",
      "source": [
        "#9. How do you redirect to a different route in Flask?\n",
        "\n",
        "from flask import redirect, url_for\n",
        "\n",
        "@app.route('/go')\n",
        "def go():\n",
        "    return redirect(url_for('home'))"
      ],
      "metadata": {
        "id": "cBrnyyMIaq69"
      },
      "execution_count": 21,
      "outputs": []
    },
    {
      "cell_type": "code",
      "source": [
        "#10. How do you handle errors in Flask (e.g., 404)?\n",
        "\n",
        "@app.errorhandler(404)\n",
        "def page_not_found(e):\n",
        "    return \"Custom 404 - Page Not Found\", 404"
      ],
      "metadata": {
        "id": "VBwmJXejawME"
      },
      "execution_count": 22,
      "outputs": []
    },
    {
      "cell_type": "code",
      "source": [
        "#11. How do you structure a Flask app using Blueprints?\n",
        "\n",
        "from flask import Flask\n",
        "from views import main\n",
        "\n",
        "app = Flask(__name__)                 #main.py\n",
        "app.register_blueprint(main)\n",
        "\n",
        "if __name__ == '__main__':\n",
        "    app.run(debug=True)\n",
        "\n",
        "\n",
        "\n",
        "from flask import Blueprint\n",
        "\n",
        "main = Blueprint('main', __name__)                #view.py\n",
        "\n",
        "@main.route('/blue')\n",
        "def blue_home():\n",
        "    return \"Hello from Blueprint!\"\n"
      ],
      "metadata": {
        "id": "IvDzi20_bIUM"
      },
      "execution_count": null,
      "outputs": []
    },
    {
      "cell_type": "code",
      "source": [
        "#12. How do you define a custom Jinja filter in Flask?\n",
        "\n",
        "@app.template_filter('reverse')\n",
        "def reverse_filter(s):\n",
        "    return s[::-1]\n",
        "\n",
        "@app.route('/rev')\n",
        "def rev():\n",
        "    return render_template_string(\"{{ 'Akansha' | reverse }}\")"
      ],
      "metadata": {
        "id": "zNj-npCibBna"
      },
      "execution_count": 24,
      "outputs": []
    },
    {
      "cell_type": "code",
      "source": [
        "#13. How can you redirect with query parameters in Flask?\n",
        "\n",
        "@app.route('/search')\n",
        "def search():\n",
        "    query = request.args.get('q')\n",
        "    return f\"Search for: {query}\"\n",
        "\n",
        "@app.route('/go-search')\n",
        "def go_search():\n",
        "    return redirect(url_for('search', q='flask tutorial'))"
      ],
      "metadata": {
        "id": "ef-njladbqYe"
      },
      "execution_count": 25,
      "outputs": []
    },
    {
      "cell_type": "code",
      "source": [
        "#14. How do you return JSON responses in Flask?\n",
        "\n",
        "from flask import jsonify\n",
        "\n",
        "@app.route('/json')\n",
        "def json_data():\n",
        "    return jsonify({\"name\": \"Akansha\", \"age\": 22})"
      ],
      "metadata": {
        "id": "dbN3NzMZbxS6"
      },
      "execution_count": 26,
      "outputs": []
    },
    {
      "cell_type": "code",
      "source": [
        "#15. How do you capture URL parameters in Flask?\n",
        "\n",
        "@app.route('/user/<username>')\n",
        "def show_user(username):\n",
        "    return f\"Hello, {username}!\""
      ],
      "metadata": {
        "id": "WN0SYabZb6EX"
      },
      "execution_count": 27,
      "outputs": []
    }
  ]
}