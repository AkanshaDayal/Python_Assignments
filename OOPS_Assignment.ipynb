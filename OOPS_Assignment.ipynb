{
  "nbformat": 4,
  "nbformat_minor": 0,
  "metadata": {
    "colab": {
      "provenance": []
    },
    "kernelspec": {
      "name": "python3",
      "display_name": "Python 3"
    },
    "language_info": {
      "name": "python"
    }
  },
  "cells": [
    {
      "cell_type": "markdown",
      "source": [
        "#Theory Question:-\n",
        "\n",
        "\n",
        "\n"
      ],
      "metadata": {
        "id": "Mer2ZvD-m4wd"
      }
    },
    {
      "cell_type": "markdown",
      "source": [
        "1. 1.  What is Object-Oriented Programming (OOP)?\n",
        "  - A programming paradigm based on the concept of objects, which encapsulate data and behavior.\n",
        "2. 2.  What is a class in OOP?\n",
        "  - A blueprint for creating objects; it defines attributes and methods.\n",
        "3.   What is an object in OOP?\n",
        "  - An instance of a class with its own data and methods.\n",
        "4.  What is the difference between abstraction and encapsulation?\n",
        "  - Abstraction hides complexity by showing only essential features,  encapsulation hides internal data by restricting access.\n",
        "5. What are dunder methods in Python?\n",
        "  - Special methods in Python with double underscores (e.g., __init__, __str__) used to define object behavior.\n",
        "6. Explain the concept of inheritance in OOP.\n",
        "  - It allows a class (child) to inherit attributes and methods from another class (parent).\n",
        "7.  What is polymorphism in OOP?\n",
        "  - It allows different classes to be treated as instances of the same class through a common interface.\n",
        "8. How is encapsulation achieved in Python?\n",
        "  - It achieved by using private/protected variables and getter/setter methods.\n",
        "9. What is a constructor in Python?\n",
        "  - The __init__ method, used to initialize object attributes during creation.\n",
        "10. What are class and static methods in Python?\n",
        "  - Class methods take cls and access class state, static methods don’t take self or cls and act like regular functions.\n",
        "11.  What is method overloading in Python?\n",
        "  -  Defining multiple methods with the same name but different parameters (not natively supported in Python).\n",
        "12. What is method overriding in OOP?  \n",
        "  -  Method Overriding: Redefining a method in a child class that is already defined in the parent class.\n",
        "13. What is a property decorator in Python?\n",
        "  - Used to turn a method into a read-only attribute (@property), or define custom getters/setters.\n",
        "14. Why is polymorphism important in OOP?\n",
        "  - Importance of Polymorphism: It enables code reusability and flexibility by allowing different objects to be used interchangeably.\n",
        "15.   What is an abstract class in Python?\n",
        "  - A class that can’t be instantiated and may contain abstract methods that must be implemented by subclasses.\n",
        "16. What are the advantages of OOP?\n",
        "  - Advantages of OOP: Modularity, reusability, scalability, and easier maintenance.\n",
        "17. What is the difference between a class variable and an instance variable?\n",
        "  - Class variables are shared across all instances; instance variables are unique to each object.\n",
        "18. What is multiple inheritance in Python?\n",
        "  - Multiple Inheritance: A class inherits from more than one parent class.\n",
        "19.  Explain the purpose of ‘’__str__’ and ‘__repr__’ ‘ methods in Python.\n",
        "  - __str__ vs. __repr__: __str__ returns a user-friendly string; __repr__ returns a developer-friendly string.\n",
        "20. What is the significance of the ‘super()’ function in Python?\n",
        "  - super() Function: Calls a method from the parent class, often used in method overriding.\n",
        "21. What is the significance of the __del__ method in Python?\n",
        "  - __del__ Method: Called when an object is about to be destroyed (destructor).\n",
        "22.  What is the difference between @staticmethod and @classmethod in Python?\n",
        "  - @staticmethod vs. @classmethod: Static methods don’t access class or instance data; class methods access class-level data using cls.\n",
        "23. How does polymorphism work in Python with inheritance?\n",
        "  - It allows subclasses to override methods from the base class while being treated as the base class.\n",
        "24.  What is method chaining in Python OOP?\n",
        "  -  Calling multiple methods on the same object in a single line, typically by returning self.\n",
        "25. What is the purpose of the __call__ method in Python?\n",
        "answer them in one or two line.  \n",
        "  - __call__ Method: Allows an instance to be called like a function.\n",
        "\n",
        "\n"
      ],
      "metadata": {
        "id": "5q0pfzRunXOl"
      }
    },
    {
      "cell_type": "markdown",
      "source": [
        "# Practical Questions:-"
      ],
      "metadata": {
        "id": "zpNbx-Nl4bM5"
      }
    },
    {
      "cell_type": "code",
      "source": [
        "#1. Create a parent class Animal with a method speak() that prints a generic message. Create a child class Dog  that overrides the speak() method to print \"Bark!\".\n",
        "class Animal:\n",
        "    def speak(self):\n",
        "        print(\"Animal speaks\")\n",
        "\n",
        "class Dog(Animal):\n",
        "    def speak(self):\n",
        "        print(\"Bark!\")\n",
        "\n",
        "print(\"1. Animal and Dog:\")\n",
        "a = Animal()\n",
        "a.speak()\n",
        "d = Dog()\n",
        "d.speak()\n",
        "print()"
      ],
      "metadata": {
        "colab": {
          "base_uri": "https://localhost:8080/"
        },
        "id": "D2tgO1w0Qpx6",
        "outputId": "4b7681ea-d914-4851-f0fe-c5ee2a05ca9f"
      },
      "execution_count": 5,
      "outputs": [
        {
          "output_type": "stream",
          "name": "stdout",
          "text": [
            "1. Animal and Dog:\n",
            "Animal speaks\n",
            "Bark!\n",
            "\n"
          ]
        }
      ]
    },
    {
      "cell_type": "code",
      "source": [
        "#2. Write a program to create an abstract class Shape with a method area(). Derive classes Circle and Rectangle from it and implement the area() method in both.\n",
        "from abc import ABC, abstractmethod\n",
        "\n",
        "class Shape(ABC):\n",
        "    @abstractmethod\n",
        "    def area(self):\n",
        "        pass\n",
        "\n",
        "class Circle(Shape):\n",
        "    def __init__(self, radius):\n",
        "        self.radius = radius\n",
        "    def area(self):\n",
        "        return 3.14 * self.radius ** 2\n",
        "\n",
        "class Rectangle(Shape):\n",
        "    def __init__(self, width, height):\n",
        "        self.width = width\n",
        "        self.height = height\n",
        "    def area(self):\n",
        "        return self.width * self.height\n",
        "\n",
        "print(\"2. Shape Areas:\")\n",
        "c = Circle(5)\n",
        "r = Rectangle(4, 6)\n",
        "print(\"Circle area:\", c.area())\n",
        "print(\"Rectangle area:\", r.area())\n",
        "print()"
      ],
      "metadata": {
        "colab": {
          "base_uri": "https://localhost:8080/"
        },
        "id": "qQxcGMyq4teJ",
        "outputId": "81b57c87-a48b-4cf8-be63-e6146990abfe"
      },
      "execution_count": 6,
      "outputs": [
        {
          "output_type": "stream",
          "name": "stdout",
          "text": [
            "2. Shape Areas:\n",
            "Circle area: 78.5\n",
            "Rectangle area: 24\n",
            "\n"
          ]
        }
      ]
    },
    {
      "cell_type": "code",
      "source": [
        "#3. Implement a multi-level inheritance scenario where a class Vehicle has an attribute type. Derive a class Car and further derive a class ElectricCar that adds a battery attribute.\n",
        "class Vehicle:\n",
        "    def __init__(self, type):\n",
        "        self.type = type\n",
        "\n",
        "class Car(Vehicle):\n",
        "    def __init__(self, type, brand):\n",
        "        super().__init__(type)\n",
        "        self.brand = brand\n",
        "\n",
        "class ElectricCar(Car):\n",
        "    def __init__(self, type, brand, battery):\n",
        "        super().__init__(type, brand)\n",
        "        self.battery = battery\n",
        "\n",
        "print(\"3. ElectricCar:\")\n",
        "e = ElectricCar(\"Electric\", \"Tesla\", \"100 kWh\")\n",
        "print(e.type, e.brand, e.battery)\n",
        "print()"
      ],
      "metadata": {
        "colab": {
          "base_uri": "https://localhost:8080/"
        },
        "id": "R7bStgV459Ij",
        "outputId": "6f33b4a2-f7aa-4dee-83a1-732fbb1218a4"
      },
      "execution_count": 7,
      "outputs": [
        {
          "output_type": "stream",
          "name": "stdout",
          "text": [
            "3. ElectricCar:\n",
            "Electric Tesla 100 kWh\n",
            "\n"
          ]
        }
      ]
    },
    {
      "cell_type": "code",
      "source": [
        "#4. Demonstrate polymorphism by creating a base class Bird with a method fly(). Create two derived classes Sparrow and Penguin that override the fly() method.\n",
        "class Bird:\n",
        "    def fly(self):\n",
        "        print(\"Bird is flying\")\n",
        "\n",
        "class Sparrow(Bird):\n",
        "    def fly(self):\n",
        "        print(\"Sparrow flies high\")\n",
        "\n",
        "class Penguin(Bird):\n",
        "    def fly(self):\n",
        "        print(\"Penguin can't fly\")\n",
        "\n",
        "print(\"4. Birds flying:\")\n",
        "b1 = Sparrow()\n",
        "b2 = Penguin()\n",
        "b1.fly()\n",
        "b2.fly()\n",
        "print()\n",
        "\n"
      ],
      "metadata": {
        "colab": {
          "base_uri": "https://localhost:8080/"
        },
        "id": "dkSD1LdV6XE4",
        "outputId": "a5abb739-d3ee-4f4f-9338-12290eb7cdb2"
      },
      "execution_count": 8,
      "outputs": [
        {
          "output_type": "stream",
          "name": "stdout",
          "text": [
            "4. Birds flying:\n",
            "Sparrow flies high\n",
            "Penguin can't fly\n",
            "\n"
          ]
        }
      ]
    },
    {
      "cell_type": "code",
      "source": [
        "#5. 5. Write a program to demonstrate encapsulation by creating a class BankAccount with private attributes balance and methods to deposit, withdraw, and check balance.\n",
        "class BankAccount:\n",
        "    def __init__(self, balance=0):\n",
        "        self.__balance = balance\n",
        "\n",
        "    def deposit(self, amount):\n",
        "        self.__balance += amount\n",
        "\n",
        "    def withdraw(self, amount):\n",
        "        if amount <= self.__balance:\n",
        "            self.__balance -= amount\n",
        "\n",
        "    def check_balance(self):\n",
        "        return self.__balance\n",
        "\n",
        "print(\"5. BankAccount:\")\n",
        "account = BankAccount()\n",
        "account.deposit(500)\n",
        "account.withdraw(200)\n",
        "print(\"Balance:\", account.check_balance())\n",
        "print()\n"
      ],
      "metadata": {
        "colab": {
          "base_uri": "https://localhost:8080/"
        },
        "id": "ckaLT-7s6mqB",
        "outputId": "b412e4d1-af39-473f-b251-412395db8eaf"
      },
      "execution_count": 9,
      "outputs": [
        {
          "output_type": "stream",
          "name": "stdout",
          "text": [
            "5. BankAccount:\n",
            "Balance: 300\n",
            "\n"
          ]
        }
      ]
    },
    {
      "cell_type": "code",
      "source": [
        "#6. Demonstrate runtime polymorphism using a method play() in a base class Instrument. Derive classes Guitar and Piano that implement their own version of play().\n",
        "class Instrument:\n",
        "    def play(self):\n",
        "        print(\"Playing instrument\")\n",
        "\n",
        "class Guitar(Instrument):\n",
        "    def play(self):\n",
        "        print(\"Strumming the guitar\")\n",
        "\n",
        "class Piano(Instrument):\n",
        "    def play(self):\n",
        "        print(\"Playing the piano\")\n",
        "\n",
        "print(\"6. Instruments:\")\n",
        "for instrument in [Guitar(), Piano()]:\n",
        "    instrument.play()\n",
        "print()\n"
      ],
      "metadata": {
        "colab": {
          "base_uri": "https://localhost:8080/"
        },
        "id": "XB_Np8B46xnq",
        "outputId": "2d592cfa-2cde-4c0b-b59d-b75c97806786"
      },
      "execution_count": 10,
      "outputs": [
        {
          "output_type": "stream",
          "name": "stdout",
          "text": [
            "6. Instruments:\n",
            "Strumming the guitar\n",
            "Playing the piano\n",
            "\n"
          ]
        }
      ]
    },
    {
      "cell_type": "code",
      "source": [
        "#7. Create a class MathOperations with a class method add_numbers() to add two numbers and a static method subtract_numbers() to subtract two numbers.\n",
        "class MathOperations:\n",
        "    @classmethod\n",
        "    def add_numbers(cls, a, b):\n",
        "        return a + b\n",
        "\n",
        "    @staticmethod\n",
        "    def subtract_numbers(a, b):\n",
        "        return a - b\n",
        "\n",
        "print(\"7. MathOperations:\")\n",
        "print(\"Add:\", MathOperations.add_numbers(10, 5))\n",
        "print(\"Subtract:\", MathOperations.subtract_numbers(10, 5))\n",
        "print()"
      ],
      "metadata": {
        "colab": {
          "base_uri": "https://localhost:8080/"
        },
        "id": "Zz_tJjkD69Zd",
        "outputId": "d9f3d9e2-afbc-4d77-b4c3-585e7e0a314c"
      },
      "execution_count": 11,
      "outputs": [
        {
          "output_type": "stream",
          "name": "stdout",
          "text": [
            "7. MathOperations:\n",
            "Add: 15\n",
            "Subtract: 5\n",
            "\n"
          ]
        }
      ]
    },
    {
      "cell_type": "code",
      "source": [
        "#8. Implement a class Person with a class method to count the total number of persons created.\n",
        "class Person:\n",
        "    count = 0\n",
        "    def __init__(self, name):\n",
        "        self.name = name\n",
        "        Person.count += 1\n",
        "    @classmethod\n",
        "    def total_persons(cls):\n",
        "        return cls.count\n",
        "\n",
        "print(\"8. Person count:\")\n",
        "p1 = Person(\"Alice\")\n",
        "p2 = Person(\"Bob\")\n",
        "print(\"Total persons:\", Person.total_persons())\n",
        "print()"
      ],
      "metadata": {
        "colab": {
          "base_uri": "https://localhost:8080/"
        },
        "id": "9d9oWwfa7H6e",
        "outputId": "70f4d4cc-680f-469a-9348-5cb8e26117c9"
      },
      "execution_count": 12,
      "outputs": [
        {
          "output_type": "stream",
          "name": "stdout",
          "text": [
            "8. Person count:\n",
            "Total persons: 2\n",
            "\n"
          ]
        }
      ]
    },
    {
      "cell_type": "code",
      "source": [
        "#9.  Write a class Fraction with attributes numerator and denominator. Override the str method to display the fraction as \"numerator/denominator\"\n",
        "class Fraction:\n",
        "    def __init__(self, numerator, denominator):\n",
        "        self.numerator = numerator\n",
        "        self.denominator = denominator\n",
        "    def __str__(self):\n",
        "        return f\"{self.numerator}/{self.denominator}\"\n",
        "\n",
        "print(\"9. Fraction:\")\n",
        "f = Fraction(3, 4)\n",
        "print(f)\n",
        "print()\n"
      ],
      "metadata": {
        "colab": {
          "base_uri": "https://localhost:8080/"
        },
        "id": "PCFqIPFL7V5u",
        "outputId": "9f804662-91bb-4f3d-cede-d52780412ae7"
      },
      "execution_count": 13,
      "outputs": [
        {
          "output_type": "stream",
          "name": "stdout",
          "text": [
            "9. Fraction:\n",
            "3/4\n",
            "\n"
          ]
        }
      ]
    },
    {
      "cell_type": "code",
      "source": [
        "#10. Demonstrate operator overloading by creating a class Vector and overriding the add method to add two vectors.\n",
        "class Vector:\n",
        "    def __init__(self, x, y):\n",
        "        self.x = x\n",
        "        self.y = y\n",
        "    def __add__(self, other):\n",
        "        return Vector(self.x + other.x, self.y + other.y)\n",
        "    def __str__(self):\n",
        "        return f\"({self.x}, {self.y})\"\n",
        "\n",
        "print(\"10. Vector addition:\")\n",
        "v1 = Vector(1, 2)\n",
        "v2 = Vector(3, 4)\n",
        "print(v1 + v2)\n",
        "print()"
      ],
      "metadata": {
        "colab": {
          "base_uri": "https://localhost:8080/"
        },
        "id": "KuFDPLpE7idV",
        "outputId": "5ba56621-6f75-4d18-cb03-196c8fe83632"
      },
      "execution_count": 14,
      "outputs": [
        {
          "output_type": "stream",
          "name": "stdout",
          "text": [
            "10. Vector addition:\n",
            "(4, 6)\n",
            "\n"
          ]
        }
      ]
    },
    {
      "cell_type": "code",
      "source": [
        "#11.  Create a class Person with attributes name and age. Add a method greet() that prints \"Hello, my name is {name} and I am {age} years old.\"\n",
        "class Person:\n",
        "    def __init__(self, name, age):\n",
        "        self.name = name\n",
        "        self.age = age\n",
        "    def greet(self):\n",
        "        print(f\"Hello, my name is {self.name} and I am {self.age} years old.\")\n",
        "\n",
        "print(\"11. Greeting:\")\n",
        "person = Person(\"John\", 30)\n",
        "person.greet()\n",
        "print()"
      ],
      "metadata": {
        "colab": {
          "base_uri": "https://localhost:8080/"
        },
        "id": "NFe7MmLe7sVM",
        "outputId": "65d56f7d-a6c0-4e0f-e429-e629162c2b71"
      },
      "execution_count": 15,
      "outputs": [
        {
          "output_type": "stream",
          "name": "stdout",
          "text": [
            "11. Greeting:\n",
            "Hello, my name is John and I am 30 years old.\n",
            "\n"
          ]
        }
      ]
    },
    {
      "cell_type": "code",
      "source": [
        "#12. Implement a class Student with attributes name and grades. Create a method average_grade() to compute the average of the grades.\n",
        "class Student:\n",
        "    def __init__(self, name, grades):\n",
        "        self.name = name\n",
        "        self.grades = grades\n",
        "    def average_grade(self):\n",
        "        return sum(self.grades) / len(self.grades)\n",
        "\n",
        "print(\"12. Student average:\")\n",
        "s = Student(\"Mike\", [80, 90, 85])\n",
        "print(\"Average:\", s.average_grade())\n",
        "print()"
      ],
      "metadata": {
        "colab": {
          "base_uri": "https://localhost:8080/"
        },
        "id": "c0P5dAvF7386",
        "outputId": "b88b229a-4a51-44ee-cedc-c4cab1259a60"
      },
      "execution_count": 17,
      "outputs": [
        {
          "output_type": "stream",
          "name": "stdout",
          "text": [
            "12. Student average:\n",
            "Average: 85.0\n",
            "\n"
          ]
        }
      ]
    },
    {
      "cell_type": "code",
      "source": [
        "#13. Create a class Rectangle with methods set_dimensions() to set the dimensions and area() to calculate the area.\n",
        "class Rectangle:\n",
        "    def set_dimensions(self, width, height):\n",
        "        self.width = width\n",
        "        self.height = height\n",
        "    def area(self):\n",
        "        return self.width * self.height\n",
        "\n",
        "print(\"13. Rectangle area:\")\n",
        "rect = Rectangle()\n",
        "rect.set_dimensions(5, 10)\n",
        "print(\"Area:\", rect.area())\n",
        "print()"
      ],
      "metadata": {
        "colab": {
          "base_uri": "https://localhost:8080/"
        },
        "id": "8c07kIV38B6Z",
        "outputId": "0c0cdc85-f39e-4940-92ab-85c959a9ec3c"
      },
      "execution_count": 18,
      "outputs": [
        {
          "output_type": "stream",
          "name": "stdout",
          "text": [
            "13. Rectangle area:\n",
            "Area: 50\n",
            "\n"
          ]
        }
      ]
    },
    {
      "cell_type": "code",
      "source": [
        "#14. Create a class Employee with a method calculate_salary() that computes the salary based on hours worked and hourly rate. Create a derived class Manager that adds a bonus to the salary.\n",
        "class Employee:\n",
        "    def calculate_salary(self, hours, rate):\n",
        "        return hours * rate\n",
        "\n",
        "class Manager(Employee):\n",
        "    def calculate_salary(self, hours, rate, bonus):\n",
        "        return super().calculate_salary(hours, rate) + bonus\n",
        "\n",
        "print(\"14. Manager salary:\")\n",
        "m = Manager()\n",
        "print(\"Salary:\", m.calculate_salary(40, 20, 300))\n",
        "print()"
      ],
      "metadata": {
        "colab": {
          "base_uri": "https://localhost:8080/"
        },
        "id": "1ZuUl3f58ONm",
        "outputId": "5fad0ef0-02cf-47f8-e318-a9192335fa31"
      },
      "execution_count": 19,
      "outputs": [
        {
          "output_type": "stream",
          "name": "stdout",
          "text": [
            "14. Manager salary:\n",
            "Salary: 1100\n",
            "\n"
          ]
        }
      ]
    },
    {
      "cell_type": "code",
      "source": [
        "#15. Create a class Product with attributes name, price, and quantity. Implement a method total_price() that calculates the total price of the product.\n",
        "class Product:\n",
        "    def __init__(self, name, price, quantity):\n",
        "        self.name = name\n",
        "        self.price = price\n",
        "        self.quantity = quantity\n",
        "    def total_price(self):\n",
        "        return self.price * self.quantity\n",
        "\n",
        "print(\"15. Product total price:\")\n",
        "prod = Product(\"Pen\", 2.5, 4)\n",
        "print(\"Total price:\", prod.total_price())\n",
        "print()"
      ],
      "metadata": {
        "colab": {
          "base_uri": "https://localhost:8080/"
        },
        "id": "1ypr8gQg8XYI",
        "outputId": "eb3a981d-f17a-4b89-8cda-279e045e7986"
      },
      "execution_count": 21,
      "outputs": [
        {
          "output_type": "stream",
          "name": "stdout",
          "text": [
            "15. Product total price:\n",
            "Total price: 10.0\n",
            "\n"
          ]
        }
      ]
    },
    {
      "cell_type": "code",
      "source": [
        "#16. Create a class Animal with an abstract method sound(). Create two derived classes Cow and Sheep that implement the sound() method.\n",
        "class Animal(ABC):\n",
        "    @abstractmethod\n",
        "    def sound(self):\n",
        "        pass\n",
        "\n",
        "class Cow(Animal):\n",
        "    def sound(self):\n",
        "        return \"Moo\"\n",
        "\n",
        "class Sheep(Animal):\n",
        "    def sound(self):\n",
        "        return \"Baa\"\n",
        "\n",
        "print(\"16. Animal sounds:\")\n",
        "print(\"Cow:\", Cow().sound())\n",
        "print(\"Sheep:\", Sheep().sound())\n",
        "print()\n"
      ],
      "metadata": {
        "colab": {
          "base_uri": "https://localhost:8080/"
        },
        "id": "JoBr5CRB8kwG",
        "outputId": "4462a3df-2a7b-43ce-950a-3732dee30e0f"
      },
      "execution_count": 22,
      "outputs": [
        {
          "output_type": "stream",
          "name": "stdout",
          "text": [
            "16. Animal sounds:\n",
            "Cow: Moo\n",
            "Sheep: Baa\n",
            "\n"
          ]
        }
      ]
    },
    {
      "cell_type": "code",
      "source": [
        "#17. Create a class Book with attributes title, author, and year_published. Add a method get_book_info() that returns a formatted string with the book's details.\n",
        "class Book:\n",
        "    def __init__(self, title, author, year_published):\n",
        "        self.title = title\n",
        "        self.author = author\n",
        "        self.year_published = year_published\n",
        "    def get_book_info(self):\n",
        "        return f\"{self.title} by {self.author}, published in {self.year_published}\"\n",
        "\n",
        "print(\"17. Book info:\")\n",
        "b = Book(\"1984\", \"George Orwell\", 1949)\n",
        "print(b.get_book_info())\n",
        "print()\n"
      ],
      "metadata": {
        "colab": {
          "base_uri": "https://localhost:8080/"
        },
        "id": "2ABCYJi48wvg",
        "outputId": "09b09918-94fb-45d5-8fa2-27af640b51bc"
      },
      "execution_count": 23,
      "outputs": [
        {
          "output_type": "stream",
          "name": "stdout",
          "text": [
            "17. Book info:\n",
            "1984 by George Orwell, published in 1949\n",
            "\n"
          ]
        }
      ]
    },
    {
      "cell_type": "code",
      "source": [
        "#18. Create a class House with attributes address and price. Create a derived class Mansion that adds an attribute number_of_rooms.\n",
        "class House:\n",
        "    def __init__(self, address, price):\n",
        "        self.address = address\n",
        "        self.price = price\n",
        "\n",
        "class Mansion(House):\n",
        "    def __init__(self, address, price, number_of_rooms):\n",
        "        super().__init__(address, price)\n",
        "        self.number_of_rooms = number_of_rooms\n",
        "\n",
        "print(\"18. Mansion info:\")\n",
        "mansion = Mansion(\"123 Rich St\", 1000000, 12)\n",
        "print(mansion.address, mansion.price, mansion.number_of_rooms)"
      ],
      "metadata": {
        "colab": {
          "base_uri": "https://localhost:8080/"
        },
        "id": "TPkLX_0z88e2",
        "outputId": "290e3116-7c16-4021-c53c-a74b9cabc957"
      },
      "execution_count": 24,
      "outputs": [
        {
          "output_type": "stream",
          "name": "stdout",
          "text": [
            "18. Mansion info:\n",
            "123 Rich St 1000000 12\n"
          ]
        }
      ]
    }
  ]
}